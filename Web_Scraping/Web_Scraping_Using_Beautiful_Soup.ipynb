{
  "nbformat": 4,
  "nbformat_minor": 0,
  "metadata": {
    "colab": {
      "name": "Web_Scrapping.ipynb",
      "provenance": [],
      "collapsed_sections": []
    },
    "kernelspec": {
      "name": "python3",
      "display_name": "Python 3"
    },
    "language_info": {
      "name": "python"
    }
  },
  "cells": [
    {
      "cell_type": "code",
      "metadata": {
        "colab": {
          "base_uri": "https://localhost:8080/"
        },
        "id": "QEPZVfru509P",
        "outputId": "1379f268-7027-409d-a462-ca470c10f13a"
      },
      "source": [
        "import nltk\n",
        "nltk.download('book',quiet=True)"
      ],
      "execution_count": null,
      "outputs": [
        {
          "output_type": "execute_result",
          "data": {
            "text/plain": [
              "True"
            ]
          },
          "metadata": {},
          "execution_count": 1
        }
      ]
    },
    {
      "cell_type": "code",
      "metadata": {
        "id": "mQj52RRYFn5x"
      },
      "source": [
        "import requests\n",
        "from urllib.parse import urlsplit\n",
        "from bs4 import BeautifulSoup"
      ],
      "execution_count": null,
      "outputs": []
    },
    {
      "cell_type": "markdown",
      "metadata": {
        "id": "sIf8tZSKX14S"
      },
      "source": [
        "We want to download the text from a White House press statement at this URL"
      ]
    },
    {
      "cell_type": "code",
      "metadata": {
        "id": "h_PjMsX9F8N9"
      },
      "source": [
        "url = 'https://www.whitehouse.gov/briefing-room/statements-releases/2021/11/30/bills-signed-bills-signed-s-769-s-894-s-1031-and-s-1095/'"
      ],
      "execution_count": null,
      "outputs": []
    },
    {
      "cell_type": "code",
      "metadata": {
        "id": "2Ul4eAN9GVPO"
      },
      "source": [
        "data = requests.get(url).text"
      ],
      "execution_count": null,
      "outputs": []
    },
    {
      "cell_type": "code",
      "metadata": {
        "colab": {
          "base_uri": "https://localhost:8080/",
          "height": 57
        },
        "id": "f0wlJ_qMGYyd",
        "outputId": "be53531e-4cd2-4da0-835f-67a19deaf63c"
      },
      "source": [
        "data[:100]"
      ],
      "execution_count": null,
      "outputs": [
        {
          "output_type": "execute_result",
          "data": {
            "application/vnd.google.colaboratory.intrinsic+json": {
              "type": "string"
            },
            "text/plain": [
              "'<!doctype html>\\n<html class=\"no-js alert__has-cookie\" lang=\"en-US\">\\n<head>\\n\\t<meta charset=\"utf-8\">\\n\\t'"
            ]
          },
          "metadata": {},
          "execution_count": 7
        }
      ]
    },
    {
      "cell_type": "markdown",
      "metadata": {
        "id": "gb5PwXqYX8Vt"
      },
      "source": [
        "Convert to a BeautifulSoup object, which is something that we can extract subparts from easily"
      ]
    },
    {
      "cell_type": "code",
      "metadata": {
        "id": "BVXh5HzGGZ6U"
      },
      "source": [
        "soup = BeautifulSoup(data)"
      ],
      "execution_count": null,
      "outputs": []
    },
    {
      "cell_type": "markdown",
      "metadata": {
        "id": "xDBqw0ckYCML"
      },
      "source": [
        "Using \"Inspect element in a browser\", we figured out that we want the text out of all the paragraphs that are inside the part that looks like this \n",
        "```html\n",
        "<section class=\"body-content\">\n",
        "...\n",
        "</section>\n",
        "```"
      ]
    },
    {
      "cell_type": "code",
      "metadata": {
        "id": "wVempsyoGgvA"
      },
      "source": [
        "sections = soup.find_all('section', class_='body-content')"
      ],
      "execution_count": null,
      "outputs": []
    },
    {
      "cell_type": "code",
      "metadata": {
        "colab": {
          "base_uri": "https://localhost:8080/"
        },
        "id": "RUfUEBSwHabw",
        "outputId": "d1fd2fb2-c0a4-4eb2-96b5-25f60eda3e57"
      },
      "source": [
        "len(sections)"
      ],
      "execution_count": null,
      "outputs": [
        {
          "output_type": "execute_result",
          "data": {
            "text/plain": [
              "1"
            ]
          },
          "metadata": {},
          "execution_count": 10
        }
      ]
    },
    {
      "cell_type": "code",
      "metadata": {
        "id": "WuZHNvUiHbmr"
      },
      "source": [
        "section = soup.find('section', class_='body-content')"
      ],
      "execution_count": null,
      "outputs": []
    },
    {
      "cell_type": "code",
      "metadata": {
        "id": "hgAmveRCHfsP"
      },
      "source": [
        "ps = section.find_all('p')"
      ],
      "execution_count": null,
      "outputs": []
    },
    {
      "cell_type": "code",
      "metadata": {
        "colab": {
          "base_uri": "https://localhost:8080/"
        },
        "id": "Y9kwoymTHo3l",
        "outputId": "dea2cdaa-d2c4-4b5f-8022-898b605899e4"
      },
      "source": [
        "len(ps)"
      ],
      "execution_count": null,
      "outputs": [
        {
          "output_type": "execute_result",
          "data": {
            "text/plain": [
              "9"
            ]
          },
          "metadata": {},
          "execution_count": 13
        }
      ]
    },
    {
      "cell_type": "code",
      "metadata": {
        "colab": {
          "base_uri": "https://localhost:8080/"
        },
        "id": "itOD9gUIHpka",
        "outputId": "93a85e76-1a50-4a18-b82d-b34d2f4d5801"
      },
      "source": [
        "ps[0]"
      ],
      "execution_count": null,
      "outputs": [
        {
          "output_type": "execute_result",
          "data": {
            "text/plain": [
              "<p>On Tuesday, November 30, 2021, the President signed into law:</p>"
            ]
          },
          "metadata": {},
          "execution_count": 14
        }
      ]
    },
    {
      "cell_type": "code",
      "metadata": {
        "colab": {
          "base_uri": "https://localhost:8080/",
          "height": 75
        },
        "id": "bEZ-vX37HquV",
        "outputId": "e37f05db-dc42-4301-a6ea-d67e191c7f19"
      },
      "source": [
        "ps[2].get_text()"
      ],
      "execution_count": null,
      "outputs": [
        {
          "output_type": "execute_result",
          "data": {
            "application/vnd.google.colaboratory.intrinsic+json": {
              "type": "string"
            },
            "text/plain": [
              "'Thank you to Senators Warnock, Moran, Menendez, Murray, Blumenthal, Murphy, Leahy, Lujan, and Tester and Representatives Takano and Bost for their leadership;'"
            ]
          },
          "metadata": {},
          "execution_count": 17
        }
      ]
    },
    {
      "cell_type": "code",
      "metadata": {
        "id": "9uKw12TZHwEy"
      },
      "source": [
        "ptexts = [p.get_text() for p in section.find_all('p')]"
      ],
      "execution_count": null,
      "outputs": []
    },
    {
      "cell_type": "code",
      "metadata": {
        "colab": {
          "base_uri": "https://localhost:8080/",
          "height": 110
        },
        "id": "hyBMl1lyH_pc",
        "outputId": "811c41f6-4640-4223-f834-86e7105874a1"
      },
      "source": [
        "ptexts[7]"
      ],
      "execution_count": null,
      "outputs": [
        {
          "output_type": "execute_result",
          "data": {
            "application/vnd.google.colaboratory.intrinsic+json": {
              "type": "string"
            },
            "text/plain": [
              "'S. 1095, the “Colonel John M. McHugh Tuition Fairness for Survivors Act of 2021,” which requires the Department of Veterans Affairs to disapprove any course of education offered by public institutions of higher learning that do not charge the in-State tuition rate to individuals using education benefits under the Survivors’ and Dependents’ Educational Assistance Program,'"
            ]
          },
          "metadata": {},
          "execution_count": 26
        }
      ]
    },
    {
      "cell_type": "markdown",
      "metadata": {
        "id": "TrKfmjdFYXst"
      },
      "source": [
        "Now for the processing pipeline: sentence tokenization, word tokenization, and part of speech tagging:"
      ]
    },
    {
      "cell_type": "code",
      "metadata": {
        "colab": {
          "base_uri": "https://localhost:8080/"
        },
        "id": "25hH2Mf7IAio",
        "outputId": "72cf63b9-deda-4ac5-fda6-770801a6f9f3"
      },
      "source": [
        "[nltk.word_tokenize(s) for s in nltk.sent_tokenize(ptexts[7])]"
      ],
      "execution_count": null,
      "outputs": [
        {
          "output_type": "execute_result",
          "data": {
            "text/plain": [
              "[['S.',\n",
              "  '1095',\n",
              "  ',',\n",
              "  'the',\n",
              "  '“',\n",
              "  'Colonel',\n",
              "  'John',\n",
              "  'M.',\n",
              "  'McHugh',\n",
              "  'Tuition',\n",
              "  'Fairness',\n",
              "  'for',\n",
              "  'Survivors',\n",
              "  'Act',\n",
              "  'of',\n",
              "  '2021',\n",
              "  ',',\n",
              "  '”',\n",
              "  'which',\n",
              "  'requires',\n",
              "  'the',\n",
              "  'Department',\n",
              "  'of',\n",
              "  'Veterans',\n",
              "  'Affairs',\n",
              "  'to',\n",
              "  'disapprove',\n",
              "  'any',\n",
              "  'course',\n",
              "  'of',\n",
              "  'education',\n",
              "  'offered',\n",
              "  'by',\n",
              "  'public',\n",
              "  'institutions',\n",
              "  'of',\n",
              "  'higher',\n",
              "  'learning',\n",
              "  'that',\n",
              "  'do',\n",
              "  'not',\n",
              "  'charge',\n",
              "  'the',\n",
              "  'in-State',\n",
              "  'tuition',\n",
              "  'rate',\n",
              "  'to',\n",
              "  'individuals',\n",
              "  'using',\n",
              "  'education',\n",
              "  'benefits',\n",
              "  'under',\n",
              "  'the',\n",
              "  'Survivors',\n",
              "  '’',\n",
              "  'and',\n",
              "  'Dependents',\n",
              "  '’',\n",
              "  'Educational',\n",
              "  'Assistance',\n",
              "  'Program',\n",
              "  ',']]"
            ]
          },
          "metadata": {},
          "execution_count": 32
        }
      ]
    },
    {
      "cell_type": "code",
      "metadata": {
        "id": "1_N7rPyTIVF7"
      },
      "source": [
        "tagger = nltk.tag.perceptron.PerceptronTagger()"
      ],
      "execution_count": null,
      "outputs": []
    },
    {
      "cell_type": "code",
      "metadata": {
        "id": "mXamUsyOItW2"
      },
      "source": [
        "doc = [tagger.tag(nltk.word_tokenize(s)) \n",
        "    for p in section.find_all('p') \n",
        "    for s in nltk.sent_tokenize(p.get_text())]"
      ],
      "execution_count": null,
      "outputs": []
    },
    {
      "cell_type": "code",
      "metadata": {
        "colab": {
          "base_uri": "https://localhost:8080/"
        },
        "id": "Kn8V_UxuI_q-",
        "outputId": "ecb32bb5-8351-460e-c835-336ceb2e9c4b"
      },
      "source": [
        "doc"
      ],
      "execution_count": null,
      "outputs": [
        {
          "output_type": "execute_result",
          "data": {
            "text/plain": [
              "[[('On', 'IN'),\n",
              "  ('Tuesday', 'NNP'),\n",
              "  (',', ','),\n",
              "  ('November', 'NNP'),\n",
              "  ('30', 'CD'),\n",
              "  (',', ','),\n",
              "  ('2021', 'CD'),\n",
              "  (',', ','),\n",
              "  ('the', 'DT'),\n",
              "  ('President', 'NNP'),\n",
              "  ('signed', 'VBD'),\n",
              "  ('into', 'IN'),\n",
              "  ('law', 'NN'),\n",
              "  (':', ':')],\n",
              " [('S.', 'NNP'),\n",
              "  ('796', 'CD'),\n",
              "  (',', ','),\n",
              "  ('the', 'DT'),\n",
              "  ('“', 'NN'),\n",
              "  ('Protecting', 'NNP'),\n",
              "  ('Moms', 'NNP'),\n",
              "  ('Who', 'NNP'),\n",
              "  ('Served', 'NNP'),\n",
              "  ('Act', 'NNP'),\n",
              "  ('of', 'IN'),\n",
              "  ('2021', 'CD'),\n",
              "  (',', ','),\n",
              "  ('”', 'NNP'),\n",
              "  ('which', 'WDT'),\n",
              "  ('codifies', 'VBZ'),\n",
              "  ('the', 'DT'),\n",
              "  ('Department', 'NNP'),\n",
              "  ('of', 'IN'),\n",
              "  ('Veterans', 'NNP'),\n",
              "  ('Affairs', 'NNP'),\n",
              "  ('current', 'JJ'),\n",
              "  ('maternity', 'NN'),\n",
              "  ('care', 'NN'),\n",
              "  ('coordination', 'NN'),\n",
              "  ('program', 'NN'),\n",
              "  (',', ',')],\n",
              " [('Thank', 'NNP'),\n",
              "  ('you', 'PRP'),\n",
              "  ('to', 'TO'),\n",
              "  ('Senators', 'NNPS'),\n",
              "  ('Warnock', 'NNP'),\n",
              "  (',', ','),\n",
              "  ('Moran', 'NNP'),\n",
              "  (',', ','),\n",
              "  ('Menendez', 'NNP'),\n",
              "  (',', ','),\n",
              "  ('Murray', 'NNP'),\n",
              "  (',', ','),\n",
              "  ('Blumenthal', 'NNP'),\n",
              "  (',', ','),\n",
              "  ('Murphy', 'NNP'),\n",
              "  (',', ','),\n",
              "  ('Leahy', 'NNP'),\n",
              "  (',', ','),\n",
              "  ('Lujan', 'NNP'),\n",
              "  (',', ','),\n",
              "  ('and', 'CC'),\n",
              "  ('Tester', 'NNP'),\n",
              "  ('and', 'CC'),\n",
              "  ('Representatives', 'NNP'),\n",
              "  ('Takano', 'NNP'),\n",
              "  ('and', 'CC'),\n",
              "  ('Bost', 'NNP'),\n",
              "  ('for', 'IN'),\n",
              "  ('their', 'PRP$'),\n",
              "  ('leadership', 'NN'),\n",
              "  (';', ':')],\n",
              " [('S.', 'NNP'),\n",
              "  ('894', 'CD'),\n",
              "  (',', ','),\n",
              "  ('the', 'DT'),\n",
              "  ('“', 'NNP'),\n",
              "  ('Hire', 'NNP'),\n",
              "  ('Veteran', 'NNP'),\n",
              "  ('Health', 'NNP'),\n",
              "  ('Heroes', 'NNP'),\n",
              "  ('Act', 'NNP'),\n",
              "  ('of', 'IN'),\n",
              "  ('2021', 'CD'),\n",
              "  (',', ','),\n",
              "  ('”', 'NNP'),\n",
              "  ('which', 'WDT'),\n",
              "  ('requires', 'VBZ'),\n",
              "  ('the', 'DT'),\n",
              "  ('Department', 'NNP'),\n",
              "  ('of', 'IN'),\n",
              "  ('Veterans', 'NNP'),\n",
              "  ('Affairs', 'NNPS'),\n",
              "  ('and', 'CC'),\n",
              "  ('the', 'DT'),\n",
              "  ('Department', 'NNP'),\n",
              "  ('of', 'IN'),\n",
              "  ('Defense', 'NNP'),\n",
              "  ('to', 'TO'),\n",
              "  ('identify', 'VB'),\n",
              "  ('separating', 'VBG'),\n",
              "  ('members', 'NNS'),\n",
              "  ('of', 'IN'),\n",
              "  ('the', 'DT'),\n",
              "  ('Armed', 'NNP'),\n",
              "  ('Forces', 'NNS'),\n",
              "  ('with', 'IN'),\n",
              "  ('a', 'DT'),\n",
              "  ('health', 'NN'),\n",
              "  ('care', 'NN'),\n",
              "  ('occupation', 'NN'),\n",
              "  ('for', 'IN'),\n",
              "  ('potential', 'JJ'),\n",
              "  ('employment', 'NN'),\n",
              "  ('with', 'IN'),\n",
              "  ('the', 'DT'),\n",
              "  ('Department', 'NNP'),\n",
              "  ('of', 'IN'),\n",
              "  ('Veterans', 'NNP'),\n",
              "  ('Affairs', 'NNP'),\n",
              "  (',', ',')],\n",
              " [('Thank', 'NNP'),\n",
              "  ('you', 'PRP'),\n",
              "  ('to', 'TO'),\n",
              "  ('Senators', 'NNPS'),\n",
              "  ('Braun', 'NNP'),\n",
              "  (',', ','),\n",
              "  ('Hassan', 'NNP'),\n",
              "  (',', ','),\n",
              "  ('Tester', 'NNP'),\n",
              "  (',', ','),\n",
              "  ('and', 'CC'),\n",
              "  ('Moran', 'NNP'),\n",
              "  ('and', 'CC'),\n",
              "  ('Representatives', 'NNP'),\n",
              "  ('Latta', 'NNP'),\n",
              "  (',', ','),\n",
              "  ('Kathleen', 'NNP'),\n",
              "  ('Rice', 'NNP'),\n",
              "  (',', ','),\n",
              "  ('Katko', 'NNP'),\n",
              "  (',', ','),\n",
              "  ('Takano', 'NNP'),\n",
              "  (',', ','),\n",
              "  ('and', 'CC'),\n",
              "  ('Bost', 'NNP'),\n",
              "  ('for', 'IN'),\n",
              "  ('their', 'PRP$'),\n",
              "  ('leadership', 'NN'),\n",
              "  (';', ':')],\n",
              " [('S.', 'NNP'),\n",
              "  ('1031', 'CD'),\n",
              "  (',', ','),\n",
              "  ('which', 'WDT'),\n",
              "  ('requires', 'VBZ'),\n",
              "  ('the', 'DT'),\n",
              "  ('Government', 'NNP'),\n",
              "  ('Accountability', 'NNP'),\n",
              "  ('Office', 'NNP'),\n",
              "  ('to', 'TO'),\n",
              "  ('conduct', 'VB'),\n",
              "  ('a', 'DT'),\n",
              "  ('race', 'NN'),\n",
              "  ('and', 'CC'),\n",
              "  ('ethnicity', 'NN'),\n",
              "  ('study', 'NN'),\n",
              "  ('regarding', 'VBG'),\n",
              "  ('certain', 'JJ'),\n",
              "  ('Department', 'NNP'),\n",
              "  ('of', 'IN'),\n",
              "  ('Veterans', 'NNP'),\n",
              "  ('Affairs', 'NNP'),\n",
              "  ('benefits', 'NNS'),\n",
              "  (',', ',')],\n",
              " [('Thank', 'NNP'),\n",
              "  ('you', 'PRP'),\n",
              "  ('to', 'TO'),\n",
              "  ('Senators', 'NNPS'),\n",
              "  ('Moran', 'NNP'),\n",
              "  (',', ','),\n",
              "  ('Tester', 'NNP'),\n",
              "  (',', ','),\n",
              "  ('Sullivan', 'NNP'),\n",
              "  (',', ','),\n",
              "  ('Sinema', 'NNP'),\n",
              "  (',', ','),\n",
              "  ('and', 'CC'),\n",
              "  ('Hassan', 'NNP'),\n",
              "  ('and', 'CC'),\n",
              "  ('Representatives', 'NNP'),\n",
              "  ('Moore', 'NNP'),\n",
              "  (',', ','),\n",
              "  ('Trone', 'NNP'),\n",
              "  (',', ','),\n",
              "  ('Takano', 'NNP'),\n",
              "  ('and', 'CC'),\n",
              "  ('Bost', 'NNP'),\n",
              "  ('for', 'IN'),\n",
              "  ('their', 'PRP$'),\n",
              "  ('leadership', 'NN'),\n",
              "  (';', ':'),\n",
              "  ('and', 'CC')],\n",
              " [('S.', 'NNP'),\n",
              "  ('1095', 'CD'),\n",
              "  (',', ','),\n",
              "  ('the', 'DT'),\n",
              "  ('“', 'NNP'),\n",
              "  ('Colonel', 'NNP'),\n",
              "  ('John', 'NNP'),\n",
              "  ('M.', 'NNP'),\n",
              "  ('McHugh', 'NNP'),\n",
              "  ('Tuition', 'NNP'),\n",
              "  ('Fairness', 'NNP'),\n",
              "  ('for', 'IN'),\n",
              "  ('Survivors', 'NNP'),\n",
              "  ('Act', 'NNP'),\n",
              "  ('of', 'IN'),\n",
              "  ('2021', 'CD'),\n",
              "  (',', ','),\n",
              "  ('”', 'NNP'),\n",
              "  ('which', 'WDT'),\n",
              "  ('requires', 'VBZ'),\n",
              "  ('the', 'DT'),\n",
              "  ('Department', 'NNP'),\n",
              "  ('of', 'IN'),\n",
              "  ('Veterans', 'NNP'),\n",
              "  ('Affairs', 'NNPS'),\n",
              "  ('to', 'TO'),\n",
              "  ('disapprove', 'VB'),\n",
              "  ('any', 'DT'),\n",
              "  ('course', 'NN'),\n",
              "  ('of', 'IN'),\n",
              "  ('education', 'NN'),\n",
              "  ('offered', 'VBN'),\n",
              "  ('by', 'IN'),\n",
              "  ('public', 'JJ'),\n",
              "  ('institutions', 'NNS'),\n",
              "  ('of', 'IN'),\n",
              "  ('higher', 'JJR'),\n",
              "  ('learning', 'NN'),\n",
              "  ('that', 'WDT'),\n",
              "  ('do', 'VBP'),\n",
              "  ('not', 'RB'),\n",
              "  ('charge', 'VB'),\n",
              "  ('the', 'DT'),\n",
              "  ('in-State', 'JJ'),\n",
              "  ('tuition', 'NN'),\n",
              "  ('rate', 'NN'),\n",
              "  ('to', 'TO'),\n",
              "  ('individuals', 'NNS'),\n",
              "  ('using', 'VBG'),\n",
              "  ('education', 'NN'),\n",
              "  ('benefits', 'NNS'),\n",
              "  ('under', 'IN'),\n",
              "  ('the', 'DT'),\n",
              "  ('Survivors', 'NNP'),\n",
              "  ('’', 'NNP'),\n",
              "  ('and', 'CC'),\n",
              "  ('Dependents', 'NNP'),\n",
              "  ('’', 'NNP'),\n",
              "  ('Educational', 'NNP'),\n",
              "  ('Assistance', 'NNP'),\n",
              "  ('Program', 'NNP'),\n",
              "  (',', ',')],\n",
              " [('Thank', 'NNP'),\n",
              "  ('you', 'PRP'),\n",
              "  ('to', 'TO'),\n",
              "  ('Senators', 'NNPS'),\n",
              "  ('Duckworth', 'NNP'),\n",
              "  ('and', 'CC'),\n",
              "  ('Collins', 'NNP'),\n",
              "  ('and', 'CC'),\n",
              "  ('Representatives', 'NNP'),\n",
              "  ('Underwood', 'NNP'),\n",
              "  ('and', 'CC'),\n",
              "  ('Bilirakis', 'NNP'),\n",
              "  ('for', 'IN'),\n",
              "  ('their', 'PRP$'),\n",
              "  ('leadership', 'NN'),\n",
              "  ('.', '.')]]"
            ]
          },
          "metadata": {},
          "execution_count": 36
        }
      ]
    },
    {
      "cell_type": "code",
      "metadata": {
        "id": "Q0P1dRFeKP3C"
      },
      "source": [
        ""
      ],
      "execution_count": null,
      "outputs": []
    },
    {
      "cell_type": "code",
      "metadata": {
        "id": "m7Ua-VLOKB6_"
      },
      "source": [
        "url = 'https://www.whitehouse.gov/briefing-room/'\n",
        "data = requests.get(url).text\n",
        "soup = BeautifulSoup(data)"
      ],
      "execution_count": null,
      "outputs": []
    },
    {
      "cell_type": "code",
      "metadata": {
        "colab": {
          "base_uri": "https://localhost:8080/"
        },
        "id": "gwsRCNIRJBd8",
        "outputId": "4a149021-b200-4142-f484-a839b3f7343c"
      },
      "source": [
        "soup.find_all('link')"
      ],
      "execution_count": null,
      "outputs": [
        {
          "output_type": "execute_result",
          "data": {
            "text/plain": [
              "[<link href=\"https://gmpg.org/xfn/11\" rel=\"profile\"/>,\n",
              " <link href=\"https://www.whitehouse.gov/briefing-room/\" rel=\"canonical\"/>,\n",
              " <link href=\"https://www.whitehouse.gov/briefing-room/page/2/\" rel=\"next\"/>,\n",
              " <link as=\"font\" crossorigin=\"anonymous\" href=\"https://www.whitehouse.gov/wp-content/themes/whitehouse/assets/fonts/Decimal-Book.woff2\" rel=\"preload\" type=\"font/woff2\"/>,\n",
              " <link as=\"font\" crossorigin=\"anonymous\" href=\"https://www.whitehouse.gov/wp-content/themes/whitehouse/assets/fonts/Decimal-Semibold.woff2\" rel=\"preload\" type=\"font/woff2\"/>,\n",
              " <link as=\"font\" crossorigin=\"anonymous\" href=\"https://www.whitehouse.gov/wp-content/themes/whitehouse/assets/fonts/Decimal-Medium_Web.woff2\" rel=\"preload\" type=\"font/woff2\"/>,\n",
              " <link as=\"font\" crossorigin=\"anonymous\" href=\"https://www.whitehouse.gov/wp-content/themes/whitehouse/assets/fonts/Decimal-Bold.woff2\" rel=\"preload\" type=\"font/woff2\"/>,\n",
              " <link as=\"font\" crossorigin=\"anonymous\" href=\"https://www.whitehouse.gov/wp-content/themes/whitehouse/assets/fonts/MercuryTextG2-Semibold-Pro_Web.woff2\" rel=\"preload\" type=\"font/woff2\"/>,\n",
              " <link as=\"font\" crossorigin=\"anonymous\" href=\"https://www.whitehouse.gov/wp-content/themes/whitehouse/assets/fonts/MercurySSm-Book-Pro_Web.woff2\" rel=\"preload\" type=\"font/woff2\"/>,\n",
              " <link as=\"font\" crossorigin=\"anonymous\" href=\"https://www.whitehouse.gov/wp-content/themes/whitehouse/assets/fonts/MercurySSm-Bold-Pro_Web.woff2\" rel=\"preload\" type=\"font/woff2\"/>,\n",
              " <link href=\"https://www.whitehouse.gov/wp-includes/css/dist/block-library/style.min.css?ver=5.8.2\" id=\"wp-block-library-css\" media=\"all\" rel=\"stylesheet\" type=\"text/css\"/>,\n",
              " <link href=\"https://www.whitehouse.gov/wp-content/themes/whitehouse/assets/css/style.min.css?ver=740d0d7.1638227454\" id=\"theme_css-css\" media=\"all\" rel=\"stylesheet\" type=\"text/css\"/>,\n",
              " <link href=\"https://www.googletagmanager.com\" rel=\"preconnect\"/>,\n",
              " <link href=\"https://www.google-analytics.com\" rel=\"preconnect\"/>,\n",
              " <link href=\"https://www.whitehouse.gov/es/prensa/\" hreflang=\"es-US\" rel=\"alternate\"/>,\n",
              " <link href=\"https://www.whitehouse.gov/briefing-room/\" hreflang=\"en-US\" rel=\"alternate\"/>,\n",
              " <link href=\"/apple-touch-icon.png\" rel=\"apple-touch-icon\" sizes=\"180x180\"/>,\n",
              " <link color=\"#5bbad5\" href=\"/safari-pinned-tab.svg\" rel=\"mask-icon\"/>]"
            ]
          },
          "metadata": {},
          "execution_count": 39
        }
      ]
    },
    {
      "cell_type": "code",
      "metadata": {
        "id": "Z74jrGMaKTkN"
      },
      "source": [
        ""
      ],
      "execution_count": null,
      "outputs": []
    }
  ]
}