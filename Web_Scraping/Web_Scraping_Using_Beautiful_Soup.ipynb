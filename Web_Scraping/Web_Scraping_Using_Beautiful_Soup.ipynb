{
  "nbformat": 4,
  "nbformat_minor": 0,
  "metadata": {
    "colab": {
      "name": "Web_Scraping.ipynb",
      "provenance": [],
      "collapsed_sections": []
    },
    "kernelspec": {
      "name": "python3",
      "display_name": "Python 3"
    },
    "language_info": {
      "name": "python"
    }
  },
  "cells": [
    {
      "cell_type": "markdown",
      "source": [
        "**Importing NLTK and other libraries:**"
      ],
      "metadata": {
        "id": "rR62PNh-Sl7c"
      }
    },
    {
      "cell_type": "code",
      "metadata": {
        "colab": {
          "base_uri": "https://localhost:8080/"
        },
        "id": "QEPZVfru509P",
        "outputId": "6d460a05-a337-46e4-c711-1ab034d02ae1"
      },
      "source": [
        "import nltk\n",
        "nltk.download('book', quiet=True)\n",
        "nltk.download('averaged_perceptron_tagger', quiet=True)\n",
        "nltk.download('punkt', quiet=True)"
      ],
      "execution_count": 23,
      "outputs": [
        {
          "output_type": "execute_result",
          "data": {
            "text/plain": [
              "True"
            ]
          },
          "metadata": {},
          "execution_count": 23
        }
      ]
    },
    {
      "cell_type": "code",
      "metadata": {
        "id": "mQj52RRYFn5x"
      },
      "source": [
        "import requests\n",
        "from urllib.parse import urlsplit\n",
        "from bs4 import BeautifulSoup"
      ],
      "execution_count": 2,
      "outputs": []
    },
    {
      "cell_type": "markdown",
      "metadata": {
        "id": "sIf8tZSKX14S"
      },
      "source": [
        "**For downloading the text from a White House press statement present in this URL link:**"
      ]
    },
    {
      "cell_type": "code",
      "metadata": {
        "id": "h_PjMsX9F8N9"
      },
      "source": [
        "url = 'https://www.whitehouse.gov/briefing-room/statements-releases/2021/11/30/bills-signed-bills-signed-s-769-s-894-s-1031-and-s-1095/'"
      ],
      "execution_count": 3,
      "outputs": []
    },
    {
      "cell_type": "code",
      "metadata": {
        "id": "2Ul4eAN9GVPO"
      },
      "source": [
        "data = requests.get(url).text"
      ],
      "execution_count": 4,
      "outputs": []
    },
    {
      "cell_type": "code",
      "metadata": {
        "colab": {
          "base_uri": "https://localhost:8080/",
          "height": 35
        },
        "id": "f0wlJ_qMGYyd",
        "outputId": "84a50c3d-df26-4488-8fc0-30b482158d07"
      },
      "source": [
        "data[:100]"
      ],
      "execution_count": 5,
      "outputs": [
        {
          "output_type": "execute_result",
          "data": {
            "text/plain": [
              "'<!doctype html>\\n<html class=\"no-js alert__has-cookie\" lang=\"en-US\">\\n<head>\\n\\t<meta charset=\"utf-8\">\\n\\t'"
            ],
            "application/vnd.google.colaboratory.intrinsic+json": {
              "type": "string"
            }
          },
          "metadata": {},
          "execution_count": 5
        }
      ]
    },
    {
      "cell_type": "markdown",
      "metadata": {
        "id": "gb5PwXqYX8Vt"
      },
      "source": [
        "**Converting above to a BeautifulSoup object, using which we can extract the subparts easily:**"
      ]
    },
    {
      "cell_type": "code",
      "metadata": {
        "id": "BVXh5HzGGZ6U"
      },
      "source": [
        "soup = BeautifulSoup(data)"
      ],
      "execution_count": 6,
      "outputs": []
    },
    {
      "cell_type": "markdown",
      "source": [
        "**Using the \"Inspect element in a browser\", we projected out that we require the text out of all the paragraphs that are inside the part, which has the following structure:**"
      ],
      "metadata": {
        "id": "-yO78ucwTrDN"
      }
    },
    {
      "cell_type": "markdown",
      "metadata": {
        "id": "xDBqw0ckYCML"
      },
      "source": [
        "```html\n",
        "<section class=\"body-content\">\n",
        "...\n",
        "</section>\n",
        "```"
      ]
    },
    {
      "cell_type": "code",
      "metadata": {
        "id": "wVempsyoGgvA"
      },
      "source": [
        "sections = soup.find_all('section', class_='body-content')"
      ],
      "execution_count": 7,
      "outputs": []
    },
    {
      "cell_type": "code",
      "metadata": {
        "colab": {
          "base_uri": "https://localhost:8080/"
        },
        "id": "RUfUEBSwHabw",
        "outputId": "9ccc8e18-2e2d-44c4-f946-c247814a5421"
      },
      "source": [
        "len(sections)"
      ],
      "execution_count": 8,
      "outputs": [
        {
          "output_type": "execute_result",
          "data": {
            "text/plain": [
              "1"
            ]
          },
          "metadata": {},
          "execution_count": 8
        }
      ]
    },
    {
      "cell_type": "code",
      "metadata": {
        "id": "WuZHNvUiHbmr"
      },
      "source": [
        "section = soup.find('section', class_='body-content')"
      ],
      "execution_count": 9,
      "outputs": []
    },
    {
      "cell_type": "code",
      "metadata": {
        "id": "hgAmveRCHfsP"
      },
      "source": [
        "ps = section.find_all('p')"
      ],
      "execution_count": 10,
      "outputs": []
    },
    {
      "cell_type": "code",
      "metadata": {
        "colab": {
          "base_uri": "https://localhost:8080/"
        },
        "id": "Y9kwoymTHo3l",
        "outputId": "e0a3bd94-5ae9-41d4-c7b0-5d03e2a6b4c2"
      },
      "source": [
        "len(ps)"
      ],
      "execution_count": 11,
      "outputs": [
        {
          "output_type": "execute_result",
          "data": {
            "text/plain": [
              "9"
            ]
          },
          "metadata": {},
          "execution_count": 11
        }
      ]
    },
    {
      "cell_type": "code",
      "metadata": {
        "colab": {
          "base_uri": "https://localhost:8080/"
        },
        "id": "itOD9gUIHpka",
        "outputId": "8e880113-b358-480e-915d-91a170d81bae"
      },
      "source": [
        "ps[0]"
      ],
      "execution_count": 12,
      "outputs": [
        {
          "output_type": "execute_result",
          "data": {
            "text/plain": [
              "<p>On Tuesday, November 30, 2021, the President signed into law:</p>"
            ]
          },
          "metadata": {},
          "execution_count": 12
        }
      ]
    },
    {
      "cell_type": "code",
      "metadata": {
        "colab": {
          "base_uri": "https://localhost:8080/",
          "height": 52
        },
        "id": "bEZ-vX37HquV",
        "outputId": "19042d98-1175-4ba5-90b2-4d5ea9f9ae4e"
      },
      "source": [
        "ps[2].get_text()"
      ],
      "execution_count": 13,
      "outputs": [
        {
          "output_type": "execute_result",
          "data": {
            "text/plain": [
              "'Thank you to Senators Warnock, Moran, Menendez, Murray, Blumenthal, Murphy, Leahy, Lujan, and Tester and Representatives Takano and Bost for their leadership;'"
            ],
            "application/vnd.google.colaboratory.intrinsic+json": {
              "type": "string"
            }
          },
          "metadata": {},
          "execution_count": 13
        }
      ]
    },
    {
      "cell_type": "code",
      "metadata": {
        "id": "9uKw12TZHwEy"
      },
      "source": [
        "ptexts = [p.get_text() for p in section.find_all('p')]"
      ],
      "execution_count": 14,
      "outputs": []
    },
    {
      "cell_type": "code",
      "metadata": {
        "colab": {
          "base_uri": "https://localhost:8080/",
          "height": 70
        },
        "id": "hyBMl1lyH_pc",
        "outputId": "460fa4c0-c98b-4118-c459-f72de814200a"
      },
      "source": [
        "ptexts[7]"
      ],
      "execution_count": 15,
      "outputs": [
        {
          "output_type": "execute_result",
          "data": {
            "text/plain": [
              "'S. 1095, the “Colonel John M. McHugh Tuition Fairness for Survivors Act of 2021,” which requires the Department of Veterans Affairs to disapprove any course of education offered by public institutions of higher learning that do not charge the in-State tuition rate to individuals using education benefits under the Survivors’ and Dependents’ Educational Assistance Program,'"
            ],
            "application/vnd.google.colaboratory.intrinsic+json": {
              "type": "string"
            }
          },
          "metadata": {},
          "execution_count": 15
        }
      ]
    },
    {
      "cell_type": "markdown",
      "metadata": {
        "id": "TrKfmjdFYXst"
      },
      "source": [
        "**Further, for the processing of pipeline: we need to start with `sentence tokenization`, followed by `word tokenization`, and then `part of speech tagging`:**"
      ]
    },
    {
      "cell_type": "code",
      "metadata": {
        "colab": {
          "base_uri": "https://localhost:8080/"
        },
        "id": "25hH2Mf7IAio",
        "outputId": "df8c3af7-dd1f-499f-83e4-992e45951227"
      },
      "source": [
        "[nltk.word_tokenize(s) for s in nltk.sent_tokenize(ptexts[7])]"
      ],
      "execution_count": 17,
      "outputs": [
        {
          "output_type": "execute_result",
          "data": {
            "text/plain": [
              "[['S.',\n",
              "  '1095',\n",
              "  ',',\n",
              "  'the',\n",
              "  '“',\n",
              "  'Colonel',\n",
              "  'John',\n",
              "  'M.',\n",
              "  'McHugh',\n",
              "  'Tuition',\n",
              "  'Fairness',\n",
              "  'for',\n",
              "  'Survivors',\n",
              "  'Act',\n",
              "  'of',\n",
              "  '2021',\n",
              "  ',',\n",
              "  '”',\n",
              "  'which',\n",
              "  'requires',\n",
              "  'the',\n",
              "  'Department',\n",
              "  'of',\n",
              "  'Veterans',\n",
              "  'Affairs',\n",
              "  'to',\n",
              "  'disapprove',\n",
              "  'any',\n",
              "  'course',\n",
              "  'of',\n",
              "  'education',\n",
              "  'offered',\n",
              "  'by',\n",
              "  'public',\n",
              "  'institutions',\n",
              "  'of',\n",
              "  'higher',\n",
              "  'learning',\n",
              "  'that',\n",
              "  'do',\n",
              "  'not',\n",
              "  'charge',\n",
              "  'the',\n",
              "  'in-State',\n",
              "  'tuition',\n",
              "  'rate',\n",
              "  'to',\n",
              "  'individuals',\n",
              "  'using',\n",
              "  'education',\n",
              "  'benefits',\n",
              "  'under',\n",
              "  'the',\n",
              "  'Survivors',\n",
              "  '’',\n",
              "  'and',\n",
              "  'Dependents',\n",
              "  '’',\n",
              "  'Educational',\n",
              "  'Assistance',\n",
              "  'Program',\n",
              "  ',']]"
            ]
          },
          "metadata": {},
          "execution_count": 17
        }
      ]
    },
    {
      "cell_type": "code",
      "metadata": {
        "id": "1_N7rPyTIVF7"
      },
      "source": [
        "tagger = nltk.tag.perceptron.PerceptronTagger()"
      ],
      "execution_count": 18,
      "outputs": []
    },
    {
      "cell_type": "code",
      "metadata": {
        "id": "m7Ua-VLOKB6_"
      },
      "source": [
        "url = 'https://www.whitehouse.gov/briefing-room/statements-releases/2021/11/30/bills-signed-bills-signed-s-769-s-894-s-1031-and-s-1095/'"
      ],
      "execution_count": 25,
      "outputs": []
    },
    {
      "cell_type": "code",
      "source": [
        "def process_url(url):\n",
        "  soup = BeautifulSoup(requests.get(url).text)\n",
        "  section = soup.find('section', class_='body-content')\n",
        "  return [tagger.tag(nltk.word_tokenize(s)) \n",
        "            for p in section.find_all('p') \n",
        "            for s in nltk.sent_tokenize(p.get_text())]"
      ],
      "metadata": {
        "id": "iALoZkCzVMJn"
      },
      "execution_count": 26,
      "outputs": []
    },
    {
      "cell_type": "code",
      "source": [
        "doc = process_url(url)"
      ],
      "metadata": {
        "id": "Vl7NcPR7Vj3a"
      },
      "execution_count": 27,
      "outputs": []
    },
    {
      "cell_type": "code",
      "source": [
        "for s in doc[:3]:\n",
        "  for w,t in s:\n",
        "    print(f'{w}_{t}', end=' ')\n",
        "  print()"
      ],
      "metadata": {
        "colab": {
          "base_uri": "https://localhost:8080/"
        },
        "id": "F9a3S1CDVmqa",
        "outputId": "1f408390-70f9-4328-a7f6-f7634e4fe0d6"
      },
      "execution_count": 28,
      "outputs": [
        {
          "output_type": "stream",
          "name": "stdout",
          "text": [
            "On_IN Tuesday_NNP ,_, November_NNP 30_CD ,_, 2021_CD ,_, the_DT President_NNP signed_VBD into_IN law_NN :_: \n",
            "S._NNP 796_CD ,_, the_DT “_NN Protecting_NNP Moms_NNP Who_NNP Served_NNP Act_NNP of_IN 2021_CD ,_, ”_NNP which_WDT codifies_VBZ the_DT Department_NNP of_IN Veterans_NNP Affairs_NNP current_JJ maternity_NN care_NN coordination_NN program_NN ,_, \n",
            "Thank_NNP you_PRP to_TO Senators_NNPS Warnock_NNP ,_, Moran_NNP ,_, Menendez_NNP ,_, Murray_NNP ,_, Blumenthal_NNP ,_, Murphy_NNP ,_, Leahy_NNP ,_, Lujan_NNP ,_, and_CC Tester_NNP and_CC Representatives_NNP Takano_NNP and_CC Bost_NNP for_IN their_PRP$ leadership_NN ;_: \n"
          ]
        }
      ]
    },
    {
      "cell_type": "code",
      "source": [
        "!mkdir -p wh"
      ],
      "metadata": {
        "id": "ZgFuTBcZVp44"
      },
      "execution_count": 29,
      "outputs": []
    },
    {
      "cell_type": "code",
      "source": [
        "filename = 'wh/' + urlsplit(url).path.replace('/', '_')  + '.txt'"
      ],
      "metadata": {
        "id": "DffF2QtvVsCH"
      },
      "execution_count": 30,
      "outputs": []
    },
    {
      "cell_type": "code",
      "source": [
        "with open(filename, 'w') as f:\n",
        "  for s in doc:\n",
        "    for w,t in s:\n",
        "      print(f'{w}_{t}', end=' ', file=f)\n",
        "    print(file=f)"
      ],
      "metadata": {
        "id": "ORjTn61lVssJ"
      },
      "execution_count": 32,
      "outputs": []
    },
    {
      "cell_type": "code",
      "source": [
        "def get_url(url):\n",
        "  doc = process_url(url)\n",
        "  filename = 'wh/' + urlsplit(url).path.replace('/', '_')  + '.txt'\n",
        "  with open(filename, 'w') as f:\n",
        "    for s in doc:\n",
        "      for w,t in s:\n",
        "        print(f'{w}_{t}', end=' ', file=f)\n",
        "      print(file=f)"
      ],
      "metadata": {
        "id": "JvXlkjJKV4mf"
      },
      "execution_count": 33,
      "outputs": []
    },
    {
      "cell_type": "code",
      "source": [
        "url = 'https://www.whitehouse.gov/briefing-room'\n",
        "soup = BeautifulSoup(requests.get(url).text)"
      ],
      "metadata": {
        "id": "7wu0wrqHWSmH"
      },
      "execution_count": 36,
      "outputs": []
    },
    {
      "cell_type": "code",
      "metadata": {
        "colab": {
          "base_uri": "https://localhost:8080/"
        },
        "id": "gwsRCNIRJBd8",
        "outputId": "ea56d94d-a5fa-4edc-c26d-074752a416d5"
      },
      "source": [
        "soup.find_all('link')"
      ],
      "execution_count": 37,
      "outputs": [
        {
          "output_type": "execute_result",
          "data": {
            "text/plain": [
              "[<link href=\"https://gmpg.org/xfn/11\" rel=\"profile\"/>,\n",
              " <link href=\"https://www.whitehouse.gov/briefing-room/\" rel=\"canonical\"/>,\n",
              " <link href=\"https://www.whitehouse.gov/briefing-room/page/2/\" rel=\"next\"/>,\n",
              " <link as=\"font\" crossorigin=\"anonymous\" href=\"https://www.whitehouse.gov/wp-content/themes/whitehouse/assets/fonts/Decimal-Book.woff2\" rel=\"preload\" type=\"font/woff2\"/>,\n",
              " <link as=\"font\" crossorigin=\"anonymous\" href=\"https://www.whitehouse.gov/wp-content/themes/whitehouse/assets/fonts/Decimal-Semibold.woff2\" rel=\"preload\" type=\"font/woff2\"/>,\n",
              " <link as=\"font\" crossorigin=\"anonymous\" href=\"https://www.whitehouse.gov/wp-content/themes/whitehouse/assets/fonts/Decimal-Medium_Web.woff2\" rel=\"preload\" type=\"font/woff2\"/>,\n",
              " <link as=\"font\" crossorigin=\"anonymous\" href=\"https://www.whitehouse.gov/wp-content/themes/whitehouse/assets/fonts/Decimal-Bold.woff2\" rel=\"preload\" type=\"font/woff2\"/>,\n",
              " <link as=\"font\" crossorigin=\"anonymous\" href=\"https://www.whitehouse.gov/wp-content/themes/whitehouse/assets/fonts/MercuryTextG2-Semibold-Pro_Web.woff2\" rel=\"preload\" type=\"font/woff2\"/>,\n",
              " <link as=\"font\" crossorigin=\"anonymous\" href=\"https://www.whitehouse.gov/wp-content/themes/whitehouse/assets/fonts/MercurySSm-Book-Pro_Web.woff2\" rel=\"preload\" type=\"font/woff2\"/>,\n",
              " <link as=\"font\" crossorigin=\"anonymous\" href=\"https://www.whitehouse.gov/wp-content/themes/whitehouse/assets/fonts/MercurySSm-Bold-Pro_Web.woff2\" rel=\"preload\" type=\"font/woff2\"/>,\n",
              " <link href=\"https://www.whitehouse.gov/_static/??/wp-includes/css/dist/block-library/style.min.css,/wp-content/themes/whitehouse/assets/css/style.min.css?m=1657655560\" id=\"all-css-0\" media=\"all\" rel=\"stylesheet\" type=\"text/css\"/>,\n",
              " <link href=\"https://www.googletagmanager.com\" rel=\"preconnect\"/>,\n",
              " <link href=\"https://www.google-analytics.com\" rel=\"preconnect\"/>,\n",
              " <link href=\"https://www.whitehouse.gov/es/prensa/\" hreflang=\"es-US\" rel=\"alternate\"/>,\n",
              " <link href=\"https://www.whitehouse.gov/briefing-room/\" hreflang=\"en-US\" rel=\"alternate\"/>,\n",
              " <link href=\"/wp-content/images/site.webmanifest\" rel=\"manifest\"/>,\n",
              " <link href=\"/favicon.ico\" rel=\"icon\" sizes=\"any\" type=\"image/x-icon\"/>,\n",
              " <link href=\"/wp-content/images/favicon-32x32.png\" rel=\"icon\" sizes=\"32x32\" type=\"image/png\"/>,\n",
              " <link href=\"/wp-content/images/favicon-16x16.png\" rel=\"icon\" sizes=\"16x16\" type=\"image/png\"/>,\n",
              " <link href=\"/wp-content/images/apple-touch-icon.png\" rel=\"apple-touch-icon\" sizes=\"180x180\"/>,\n",
              " <link color=\"#5bbad5\" href=\"/wp-content/images/safari-pinned-tab.svg\" rel=\"mask-icon\"/>]"
            ]
          },
          "metadata": {},
          "execution_count": 37
        }
      ]
    },
    {
      "cell_type": "code",
      "metadata": {
        "id": "Z74jrGMaKTkN",
        "colab": {
          "base_uri": "https://localhost:8080/"
        },
        "outputId": "533df4d8-11db-4acd-d195-9e00713415e1"
      },
      "source": [
        "soup.find_all('a', class_='news-item__title')"
      ],
      "execution_count": 38,
      "outputs": [
        {
          "output_type": "execute_result",
          "data": {
            "text/plain": [
              "[<a class=\"news-item__title\" href=\"https://www.whitehouse.gov/briefing-room/press-briefings/2022/07/13/background-press-call-previewing-day-two-of-the-presidents-trip-to-the-middle-east/\">\n",
              " \t\t\t\tBackground Press Call Previewing Day Two of the President’s Trip to the Middle<span class=\"dewidow\"> </span>East\t\t\t</a>,\n",
              " <a class=\"news-item__title\" href=\"https://www.whitehouse.gov/briefing-room/statements-releases/2022/07/13/nec-director-deese-statement-on-panasonic-energy-announcement-in-kansas/\">\n",
              " \t\t\t\tNEC Director Deese Statement on Panasonic Energy Announcement in<span class=\"dewidow\"> </span>Kansas\t\t\t</a>,\n",
              " <a class=\"news-item__title\" href=\"https://www.whitehouse.gov/briefing-room/statements-releases/2022/07/13/nominations-sent-to-the-senate-74/\">\n",
              " \t\t\t\tNominations Sent to the<span class=\"dewidow\"> </span>Senate\t\t\t</a>,\n",
              " <a class=\"news-item__title\" href=\"https://www.whitehouse.gov/briefing-room/statements-releases/2022/07/13/statement-from-president-biden-after-senate-confirmation-of-michael-barr-to-the-federal-reserve/\">\n",
              " \t\t\t\tStatement from President Biden after Senate Confirmation of Michael Barr to the Federal<span class=\"dewidow\"> </span>Reserve\t\t\t</a>,\n",
              " <a class=\"news-item__title\" href=\"https://www.whitehouse.gov/briefing-room/statements-releases/2022/07/13/fact-sheet-president-biden-appoints-cancer-panel-members-and-cancer-cabinet-unveils-priority-actions/\">\n",
              " \t\t\t\tFACT SHEET: President<span class=\"dewidow\"> </span>Biden Appoints Cancer Panel Members and Cancer Cabinet Unveils Priority<span class=\"dewidow\"> </span>Actions\t\t\t</a>,\n",
              " <a class=\"news-item__title\" href=\"https://www.whitehouse.gov/briefing-room/statements-releases/2022/07/13/president-biden-names-twenty-second-round-of-judicial-nominees/\">\n",
              " \t\t\t\tPresident<span class=\"dewidow\"> </span>Biden Names Twenty-Second Round of Judicial<span class=\"dewidow\"> </span>Nominees\t\t\t</a>,\n",
              " <a class=\"news-item__title\" href=\"https://www.whitehouse.gov/briefing-room/statements-releases/2022/07/13/readout-of-white-house-listening-session-withdomestic-violence-and-sexual-assault-organizations/\">\n",
              " \t\t\t\tReadout of White<span class=\"dewidow\"> </span>House Listening Session withDomestic Violence and Sexual Assault<span class=\"dewidow\"> </span>Organizations\t\t\t</a>,\n",
              " <a class=\"news-item__title\" href=\"https://www.whitehouse.gov/briefing-room/speeches-remarks/2022/07/13/remarks-by-vice-president-harris-at-the-american-rescue-plan-workforce-development-summit/\">\n",
              " \t\t\t\tRemarks by Vice President Harris at the American Rescue Plan Workforce Development<span class=\"dewidow\"> </span>Summit\t\t\t</a>,\n",
              " <a class=\"news-item__title\" href=\"https://www.whitehouse.gov/briefing-room/speeches-remarks/2022/07/13/remarks-by-president-biden-at-arrival-ceremony/\">\n",
              " \t\t\t\tRemarks by President<span class=\"dewidow\"> </span>Biden at Arrival<span class=\"dewidow\"> </span>Ceremony\t\t\t</a>,\n",
              " <a class=\"news-item__title\" href=\"https://www.whitehouse.gov/briefing-room/statements-releases/2022/07/13/president-biden-statement-on-cpi-inflation-in-june/\">\n",
              " \t\t\t\tPresident<span class=\"dewidow\"> </span>Biden Statement on CPI Inflation in<span class=\"dewidow\"> </span>June\t\t\t</a>]"
            ]
          },
          "metadata": {},
          "execution_count": 38
        }
      ]
    },
    {
      "cell_type": "code",
      "source": [
        "for a in soup.find_all('a', class_='news-item__title'):\n",
        "  url = a['href']\n",
        "  print(url)\n",
        "  get_url(url)"
      ],
      "metadata": {
        "colab": {
          "base_uri": "https://localhost:8080/"
        },
        "id": "EgHPm_yvW2r-",
        "outputId": "946dd60c-c7d7-406d-b82a-a8617087b485"
      },
      "execution_count": 39,
      "outputs": [
        {
          "output_type": "stream",
          "name": "stdout",
          "text": [
            "https://www.whitehouse.gov/briefing-room/press-briefings/2022/07/13/background-press-call-previewing-day-two-of-the-presidents-trip-to-the-middle-east/\n",
            "https://www.whitehouse.gov/briefing-room/statements-releases/2022/07/13/nec-director-deese-statement-on-panasonic-energy-announcement-in-kansas/\n",
            "https://www.whitehouse.gov/briefing-room/statements-releases/2022/07/13/nominations-sent-to-the-senate-74/\n",
            "https://www.whitehouse.gov/briefing-room/statements-releases/2022/07/13/statement-from-president-biden-after-senate-confirmation-of-michael-barr-to-the-federal-reserve/\n",
            "https://www.whitehouse.gov/briefing-room/statements-releases/2022/07/13/fact-sheet-president-biden-appoints-cancer-panel-members-and-cancer-cabinet-unveils-priority-actions/\n",
            "https://www.whitehouse.gov/briefing-room/statements-releases/2022/07/13/president-biden-names-twenty-second-round-of-judicial-nominees/\n",
            "https://www.whitehouse.gov/briefing-room/statements-releases/2022/07/13/readout-of-white-house-listening-session-withdomestic-violence-and-sexual-assault-organizations/\n",
            "https://www.whitehouse.gov/briefing-room/speeches-remarks/2022/07/13/remarks-by-vice-president-harris-at-the-american-rescue-plan-workforce-development-summit/\n",
            "https://www.whitehouse.gov/briefing-room/speeches-remarks/2022/07/13/remarks-by-president-biden-at-arrival-ceremony/\n",
            "https://www.whitehouse.gov/briefing-room/statements-releases/2022/07/13/president-biden-statement-on-cpi-inflation-in-june/\n"
          ]
        }
      ]
    },
    {
      "cell_type": "code",
      "source": [
        "soup.find('link', rel=\"next\")['href']"
      ],
      "metadata": {
        "colab": {
          "base_uri": "https://localhost:8080/",
          "height": 35
        },
        "id": "szJHlXC7W5Zf",
        "outputId": "f1c98140-8cc8-477c-9aeb-02f33506ca3c"
      },
      "execution_count": 40,
      "outputs": [
        {
          "output_type": "execute_result",
          "data": {
            "text/plain": [
              "'https://www.whitehouse.gov/briefing-room/page/2/'"
            ],
            "application/vnd.google.colaboratory.intrinsic+json": {
              "type": "string"
            }
          },
          "metadata": {},
          "execution_count": 40
        }
      ]
    },
    {
      "cell_type": "code",
      "source": [
        "url = 'https://www.whitehouse.gov/briefing-room'\n",
        "\n",
        "while url:\n",
        "  print(url)\n",
        "  soup = BeautifulSoup(requests.get(url).text)\n",
        "  soup.find_all('a', class_='news-item__title')\n",
        "  for a in soup.find_all('a', class_='news-item__title'):\n",
        "    item_url = a['href']\n",
        "    get_url(item_url)\n",
        "  next = soup.find('link', rel='next')\n",
        "  if next:\n",
        "    url = next['href']\n",
        "  else:\n",
        "    url = None"
      ],
      "metadata": {
        "colab": {
          "base_uri": "https://localhost:8080/"
        },
        "id": "-mxbknrSW9T_",
        "outputId": "03c07fb6-92c4-44f8-e925-10f7dc5da675"
      },
      "execution_count": 41,
      "outputs": [
        {
          "output_type": "stream",
          "name": "stdout",
          "text": [
            "https://www.whitehouse.gov/briefing-room\n",
            "https://www.whitehouse.gov/briefing-room/page/2/\n",
            "https://www.whitehouse.gov/briefing-room/page/3/\n",
            "https://www.whitehouse.gov/briefing-room/page/4/\n",
            "https://www.whitehouse.gov/briefing-room/page/5/\n",
            "https://www.whitehouse.gov/briefing-room/page/6/\n",
            "https://www.whitehouse.gov/briefing-room/page/7/\n",
            "https://www.whitehouse.gov/briefing-room/page/8/\n",
            "https://www.whitehouse.gov/briefing-room/page/9/\n",
            "https://www.whitehouse.gov/briefing-room/page/10/\n",
            "https://www.whitehouse.gov/briefing-room/page/11/\n",
            "https://www.whitehouse.gov/briefing-room/page/12/\n",
            "https://www.whitehouse.gov/briefing-room/page/13/\n",
            "https://www.whitehouse.gov/briefing-room/page/14/\n",
            "https://www.whitehouse.gov/briefing-room/page/15/\n",
            "https://www.whitehouse.gov/briefing-room/page/16/\n",
            "https://www.whitehouse.gov/briefing-room/page/17/\n",
            "https://www.whitehouse.gov/briefing-room/page/18/\n",
            "https://www.whitehouse.gov/briefing-room/page/19/\n",
            "https://www.whitehouse.gov/briefing-room/page/20/\n",
            "https://www.whitehouse.gov/briefing-room/page/21/\n",
            "https://www.whitehouse.gov/briefing-room/page/22/\n",
            "https://www.whitehouse.gov/briefing-room/page/23/\n",
            "https://www.whitehouse.gov/briefing-room/page/24/\n",
            "https://www.whitehouse.gov/briefing-room/page/25/\n",
            "https://www.whitehouse.gov/briefing-room/page/26/\n",
            "https://www.whitehouse.gov/briefing-room/page/27/\n",
            "https://www.whitehouse.gov/briefing-room/page/28/\n",
            "https://www.whitehouse.gov/briefing-room/page/29/\n",
            "https://www.whitehouse.gov/briefing-room/page/30/\n",
            "https://www.whitehouse.gov/briefing-room/page/31/\n",
            "https://www.whitehouse.gov/briefing-room/page/32/\n",
            "https://www.whitehouse.gov/briefing-room/page/33/\n",
            "https://www.whitehouse.gov/briefing-room/page/34/\n",
            "https://www.whitehouse.gov/briefing-room/page/35/\n",
            "https://www.whitehouse.gov/briefing-room/page/36/\n",
            "https://www.whitehouse.gov/briefing-room/page/37/\n",
            "https://www.whitehouse.gov/briefing-room/page/38/\n",
            "https://www.whitehouse.gov/briefing-room/page/39/\n",
            "https://www.whitehouse.gov/briefing-room/page/40/\n",
            "https://www.whitehouse.gov/briefing-room/page/41/\n",
            "https://www.whitehouse.gov/briefing-room/page/42/\n",
            "https://www.whitehouse.gov/briefing-room/page/43/\n",
            "https://www.whitehouse.gov/briefing-room/page/44/\n",
            "https://www.whitehouse.gov/briefing-room/page/45/\n",
            "https://www.whitehouse.gov/briefing-room/page/46/\n",
            "https://www.whitehouse.gov/briefing-room/page/47/\n",
            "https://www.whitehouse.gov/briefing-room/page/48/\n",
            "https://www.whitehouse.gov/briefing-room/page/49/\n",
            "https://www.whitehouse.gov/briefing-room/page/50/\n",
            "https://www.whitehouse.gov/briefing-room/page/51/\n",
            "https://www.whitehouse.gov/briefing-room/page/52/\n",
            "https://www.whitehouse.gov/briefing-room/page/53/\n",
            "https://www.whitehouse.gov/briefing-room/page/54/\n",
            "https://www.whitehouse.gov/briefing-room/page/55/\n",
            "https://www.whitehouse.gov/briefing-room/page/56/\n",
            "https://www.whitehouse.gov/briefing-room/page/57/\n",
            "https://www.whitehouse.gov/briefing-room/page/58/\n",
            "https://www.whitehouse.gov/briefing-room/page/59/\n",
            "https://www.whitehouse.gov/briefing-room/page/60/\n",
            "https://www.whitehouse.gov/briefing-room/page/61/\n",
            "https://www.whitehouse.gov/briefing-room/page/62/\n",
            "https://www.whitehouse.gov/briefing-room/page/63/\n",
            "https://www.whitehouse.gov/briefing-room/page/64/\n",
            "https://www.whitehouse.gov/briefing-room/page/65/\n",
            "https://www.whitehouse.gov/briefing-room/page/66/\n",
            "https://www.whitehouse.gov/briefing-room/page/67/\n",
            "https://www.whitehouse.gov/briefing-room/page/68/\n",
            "https://www.whitehouse.gov/briefing-room/page/69/\n",
            "https://www.whitehouse.gov/briefing-room/page/70/\n",
            "https://www.whitehouse.gov/briefing-room/page/71/\n",
            "https://www.whitehouse.gov/briefing-room/page/72/\n",
            "https://www.whitehouse.gov/briefing-room/page/73/\n",
            "https://www.whitehouse.gov/briefing-room/page/74/\n",
            "https://www.whitehouse.gov/briefing-room/page/75/\n",
            "https://www.whitehouse.gov/briefing-room/page/76/\n",
            "https://www.whitehouse.gov/briefing-room/page/77/\n",
            "https://www.whitehouse.gov/briefing-room/page/78/\n",
            "https://www.whitehouse.gov/briefing-room/page/79/\n",
            "https://www.whitehouse.gov/briefing-room/page/80/\n",
            "https://www.whitehouse.gov/briefing-room/page/81/\n",
            "https://www.whitehouse.gov/briefing-room/page/82/\n",
            "https://www.whitehouse.gov/briefing-room/page/83/\n",
            "https://www.whitehouse.gov/briefing-room/page/84/\n",
            "https://www.whitehouse.gov/briefing-room/page/85/\n",
            "https://www.whitehouse.gov/briefing-room/page/86/\n",
            "https://www.whitehouse.gov/briefing-room/page/87/\n",
            "https://www.whitehouse.gov/briefing-room/page/88/\n",
            "https://www.whitehouse.gov/briefing-room/page/89/\n",
            "https://www.whitehouse.gov/briefing-room/page/90/\n",
            "https://www.whitehouse.gov/briefing-room/page/91/\n",
            "https://www.whitehouse.gov/briefing-room/page/92/\n",
            "https://www.whitehouse.gov/briefing-room/page/93/\n",
            "https://www.whitehouse.gov/briefing-room/page/94/\n",
            "https://www.whitehouse.gov/briefing-room/page/95/\n",
            "https://www.whitehouse.gov/briefing-room/page/96/\n",
            "https://www.whitehouse.gov/briefing-room/page/97/\n",
            "https://www.whitehouse.gov/briefing-room/page/98/\n",
            "https://www.whitehouse.gov/briefing-room/page/99/\n",
            "https://www.whitehouse.gov/briefing-room/page/100/\n",
            "https://www.whitehouse.gov/briefing-room/page/101/\n",
            "https://www.whitehouse.gov/briefing-room/page/102/\n",
            "https://www.whitehouse.gov/briefing-room/page/103/\n",
            "https://www.whitehouse.gov/briefing-room/page/104/\n",
            "https://www.whitehouse.gov/briefing-room/page/105/\n",
            "https://www.whitehouse.gov/briefing-room/page/106/\n",
            "https://www.whitehouse.gov/briefing-room/page/107/\n",
            "https://www.whitehouse.gov/briefing-room/page/108/\n",
            "https://www.whitehouse.gov/briefing-room/page/109/\n",
            "https://www.whitehouse.gov/briefing-room/page/110/\n",
            "https://www.whitehouse.gov/briefing-room/page/111/\n",
            "https://www.whitehouse.gov/briefing-room/page/112/\n",
            "https://www.whitehouse.gov/briefing-room/page/113/\n",
            "https://www.whitehouse.gov/briefing-room/page/114/\n",
            "https://www.whitehouse.gov/briefing-room/page/115/\n",
            "https://www.whitehouse.gov/briefing-room/page/116/\n",
            "https://www.whitehouse.gov/briefing-room/page/117/\n",
            "https://www.whitehouse.gov/briefing-room/page/118/\n",
            "https://www.whitehouse.gov/briefing-room/page/119/\n",
            "https://www.whitehouse.gov/briefing-room/page/120/\n",
            "https://www.whitehouse.gov/briefing-room/page/121/\n",
            "https://www.whitehouse.gov/briefing-room/page/122/\n",
            "https://www.whitehouse.gov/briefing-room/page/123/\n",
            "https://www.whitehouse.gov/briefing-room/page/124/\n",
            "https://www.whitehouse.gov/briefing-room/page/125/\n",
            "https://www.whitehouse.gov/briefing-room/page/126/\n",
            "https://www.whitehouse.gov/briefing-room/page/127/\n",
            "https://www.whitehouse.gov/briefing-room/page/128/\n",
            "https://www.whitehouse.gov/briefing-room/page/129/\n",
            "https://www.whitehouse.gov/briefing-room/page/130/\n",
            "https://www.whitehouse.gov/briefing-room/page/131/\n",
            "https://www.whitehouse.gov/briefing-room/page/132/\n",
            "https://www.whitehouse.gov/briefing-room/page/133/\n",
            "https://www.whitehouse.gov/briefing-room/page/134/\n",
            "https://www.whitehouse.gov/briefing-room/page/135/\n",
            "https://www.whitehouse.gov/briefing-room/page/136/\n",
            "https://www.whitehouse.gov/briefing-room/page/137/\n",
            "https://www.whitehouse.gov/briefing-room/page/138/\n",
            "https://www.whitehouse.gov/briefing-room/page/139/\n",
            "https://www.whitehouse.gov/briefing-room/page/140/\n",
            "https://www.whitehouse.gov/briefing-room/page/141/\n",
            "https://www.whitehouse.gov/briefing-room/page/142/\n",
            "https://www.whitehouse.gov/briefing-room/page/143/\n",
            "https://www.whitehouse.gov/briefing-room/page/144/\n",
            "https://www.whitehouse.gov/briefing-room/page/145/\n",
            "https://www.whitehouse.gov/briefing-room/page/146/\n",
            "https://www.whitehouse.gov/briefing-room/page/147/\n",
            "https://www.whitehouse.gov/briefing-room/page/148/\n",
            "https://www.whitehouse.gov/briefing-room/page/149/\n",
            "https://www.whitehouse.gov/briefing-room/page/150/\n",
            "https://www.whitehouse.gov/briefing-room/page/151/\n",
            "https://www.whitehouse.gov/briefing-room/page/152/\n",
            "https://www.whitehouse.gov/briefing-room/page/153/\n",
            "https://www.whitehouse.gov/briefing-room/page/154/\n",
            "https://www.whitehouse.gov/briefing-room/page/155/\n",
            "https://www.whitehouse.gov/briefing-room/page/156/\n",
            "https://www.whitehouse.gov/briefing-room/page/157/\n",
            "https://www.whitehouse.gov/briefing-room/page/158/\n",
            "https://www.whitehouse.gov/briefing-room/page/159/\n",
            "https://www.whitehouse.gov/briefing-room/page/160/\n",
            "https://www.whitehouse.gov/briefing-room/page/161/\n",
            "https://www.whitehouse.gov/briefing-room/page/162/\n",
            "https://www.whitehouse.gov/briefing-room/page/163/\n",
            "https://www.whitehouse.gov/briefing-room/page/164/\n",
            "https://www.whitehouse.gov/briefing-room/page/165/\n",
            "https://www.whitehouse.gov/briefing-room/page/166/\n",
            "https://www.whitehouse.gov/briefing-room/page/167/\n",
            "https://www.whitehouse.gov/briefing-room/page/168/\n",
            "https://www.whitehouse.gov/briefing-room/page/169/\n",
            "https://www.whitehouse.gov/briefing-room/page/170/\n",
            "https://www.whitehouse.gov/briefing-room/page/171/\n",
            "https://www.whitehouse.gov/briefing-room/page/172/\n",
            "https://www.whitehouse.gov/briefing-room/page/173/\n",
            "https://www.whitehouse.gov/briefing-room/page/174/\n",
            "https://www.whitehouse.gov/briefing-room/page/175/\n",
            "https://www.whitehouse.gov/briefing-room/page/176/\n",
            "https://www.whitehouse.gov/briefing-room/page/177/\n",
            "https://www.whitehouse.gov/briefing-room/page/178/\n",
            "https://www.whitehouse.gov/briefing-room/page/179/\n",
            "https://www.whitehouse.gov/briefing-room/page/180/\n",
            "https://www.whitehouse.gov/briefing-room/page/181/\n",
            "https://www.whitehouse.gov/briefing-room/page/182/\n",
            "https://www.whitehouse.gov/briefing-room/page/183/\n",
            "https://www.whitehouse.gov/briefing-room/page/184/\n",
            "https://www.whitehouse.gov/briefing-room/page/185/\n",
            "https://www.whitehouse.gov/briefing-room/page/186/\n",
            "https://www.whitehouse.gov/briefing-room/page/187/\n",
            "https://www.whitehouse.gov/briefing-room/page/188/\n",
            "https://www.whitehouse.gov/briefing-room/page/189/\n",
            "https://www.whitehouse.gov/briefing-room/page/190/\n",
            "https://www.whitehouse.gov/briefing-room/page/191/\n",
            "https://www.whitehouse.gov/briefing-room/page/192/\n",
            "https://www.whitehouse.gov/briefing-room/page/193/\n",
            "https://www.whitehouse.gov/briefing-room/page/194/\n",
            "https://www.whitehouse.gov/briefing-room/page/195/\n",
            "https://www.whitehouse.gov/briefing-room/page/196/\n",
            "https://www.whitehouse.gov/briefing-room/page/197/\n",
            "https://www.whitehouse.gov/briefing-room/page/198/\n",
            "https://www.whitehouse.gov/briefing-room/page/199/\n",
            "https://www.whitehouse.gov/briefing-room/page/200/\n",
            "https://www.whitehouse.gov/briefing-room/page/201/\n",
            "https://www.whitehouse.gov/briefing-room/page/202/\n",
            "https://www.whitehouse.gov/briefing-room/page/203/\n",
            "https://www.whitehouse.gov/briefing-room/page/204/\n",
            "https://www.whitehouse.gov/briefing-room/page/205/\n",
            "https://www.whitehouse.gov/briefing-room/page/206/\n",
            "https://www.whitehouse.gov/briefing-room/page/207/\n",
            "https://www.whitehouse.gov/briefing-room/page/208/\n",
            "https://www.whitehouse.gov/briefing-room/page/209/\n",
            "https://www.whitehouse.gov/briefing-room/page/210/\n",
            "https://www.whitehouse.gov/briefing-room/page/211/\n",
            "https://www.whitehouse.gov/briefing-room/page/212/\n",
            "https://www.whitehouse.gov/briefing-room/page/213/\n",
            "https://www.whitehouse.gov/briefing-room/page/214/\n",
            "https://www.whitehouse.gov/briefing-room/page/215/\n",
            "https://www.whitehouse.gov/briefing-room/page/216/\n",
            "https://www.whitehouse.gov/briefing-room/page/217/\n",
            "https://www.whitehouse.gov/briefing-room/page/218/\n",
            "https://www.whitehouse.gov/briefing-room/page/219/\n",
            "https://www.whitehouse.gov/briefing-room/page/220/\n",
            "https://www.whitehouse.gov/briefing-room/page/221/\n",
            "https://www.whitehouse.gov/briefing-room/page/222/\n",
            "https://www.whitehouse.gov/briefing-room/page/223/\n",
            "https://www.whitehouse.gov/briefing-room/page/224/\n",
            "https://www.whitehouse.gov/briefing-room/page/225/\n",
            "https://www.whitehouse.gov/briefing-room/page/226/\n",
            "https://www.whitehouse.gov/briefing-room/page/227/\n",
            "https://www.whitehouse.gov/briefing-room/page/228/\n",
            "https://www.whitehouse.gov/briefing-room/page/229/\n",
            "https://www.whitehouse.gov/briefing-room/page/230/\n",
            "https://www.whitehouse.gov/briefing-room/page/231/\n",
            "https://www.whitehouse.gov/briefing-room/page/232/\n",
            "https://www.whitehouse.gov/briefing-room/page/233/\n",
            "https://www.whitehouse.gov/briefing-room/page/234/\n",
            "https://www.whitehouse.gov/briefing-room/page/235/\n",
            "https://www.whitehouse.gov/briefing-room/page/236/\n",
            "https://www.whitehouse.gov/briefing-room/page/237/\n",
            "https://www.whitehouse.gov/briefing-room/page/238/\n",
            "https://www.whitehouse.gov/briefing-room/page/239/\n",
            "https://www.whitehouse.gov/briefing-room/page/240/\n",
            "https://www.whitehouse.gov/briefing-room/page/241/\n",
            "https://www.whitehouse.gov/briefing-room/page/242/\n",
            "https://www.whitehouse.gov/briefing-room/page/243/\n",
            "https://www.whitehouse.gov/briefing-room/page/244/\n",
            "https://www.whitehouse.gov/briefing-room/page/245/\n",
            "https://www.whitehouse.gov/briefing-room/page/246/\n",
            "https://www.whitehouse.gov/briefing-room/page/247/\n",
            "https://www.whitehouse.gov/briefing-room/page/248/\n",
            "https://www.whitehouse.gov/briefing-room/page/249/\n",
            "https://www.whitehouse.gov/briefing-room/page/250/\n",
            "https://www.whitehouse.gov/briefing-room/page/251/\n",
            "https://www.whitehouse.gov/briefing-room/page/252/\n",
            "https://www.whitehouse.gov/briefing-room/page/253/\n",
            "https://www.whitehouse.gov/briefing-room/page/254/\n",
            "https://www.whitehouse.gov/briefing-room/page/255/\n",
            "https://www.whitehouse.gov/briefing-room/page/256/\n",
            "https://www.whitehouse.gov/briefing-room/page/257/\n",
            "https://www.whitehouse.gov/briefing-room/page/258/\n",
            "https://www.whitehouse.gov/briefing-room/page/259/\n",
            "https://www.whitehouse.gov/briefing-room/page/260/\n",
            "https://www.whitehouse.gov/briefing-room/page/261/\n",
            "https://www.whitehouse.gov/briefing-room/page/262/\n",
            "https://www.whitehouse.gov/briefing-room/page/263/\n",
            "https://www.whitehouse.gov/briefing-room/page/264/\n",
            "https://www.whitehouse.gov/briefing-room/page/265/\n",
            "https://www.whitehouse.gov/briefing-room/page/266/\n",
            "https://www.whitehouse.gov/briefing-room/page/267/\n",
            "https://www.whitehouse.gov/briefing-room/page/268/\n",
            "https://www.whitehouse.gov/briefing-room/page/269/\n",
            "https://www.whitehouse.gov/briefing-room/page/270/\n",
            "https://www.whitehouse.gov/briefing-room/page/271/\n",
            "https://www.whitehouse.gov/briefing-room/page/272/\n",
            "https://www.whitehouse.gov/briefing-room/page/273/\n",
            "https://www.whitehouse.gov/briefing-room/page/274/\n",
            "https://www.whitehouse.gov/briefing-room/page/275/\n",
            "https://www.whitehouse.gov/briefing-room/page/276/\n",
            "https://www.whitehouse.gov/briefing-room/page/277/\n",
            "https://www.whitehouse.gov/briefing-room/page/278/\n",
            "https://www.whitehouse.gov/briefing-room/page/279/\n",
            "https://www.whitehouse.gov/briefing-room/page/280/\n",
            "https://www.whitehouse.gov/briefing-room/page/281/\n",
            "https://www.whitehouse.gov/briefing-room/page/282/\n",
            "https://www.whitehouse.gov/briefing-room/page/283/\n",
            "https://www.whitehouse.gov/briefing-room/page/284/\n",
            "https://www.whitehouse.gov/briefing-room/page/285/\n",
            "https://www.whitehouse.gov/briefing-room/page/286/\n",
            "https://www.whitehouse.gov/briefing-room/page/287/\n",
            "https://www.whitehouse.gov/briefing-room/page/288/\n",
            "https://www.whitehouse.gov/briefing-room/page/289/\n",
            "https://www.whitehouse.gov/briefing-room/page/290/\n",
            "https://www.whitehouse.gov/briefing-room/page/291/\n",
            "https://www.whitehouse.gov/briefing-room/page/292/\n",
            "https://www.whitehouse.gov/briefing-room/page/293/\n",
            "https://www.whitehouse.gov/briefing-room/page/294/\n",
            "https://www.whitehouse.gov/briefing-room/page/295/\n",
            "https://www.whitehouse.gov/briefing-room/page/296/\n",
            "https://www.whitehouse.gov/briefing-room/page/297/\n",
            "https://www.whitehouse.gov/briefing-room/page/298/\n",
            "https://www.whitehouse.gov/briefing-room/page/299/\n",
            "https://www.whitehouse.gov/briefing-room/page/300/\n",
            "https://www.whitehouse.gov/briefing-room/page/301/\n",
            "https://www.whitehouse.gov/briefing-room/page/302/\n",
            "https://www.whitehouse.gov/briefing-room/page/303/\n",
            "https://www.whitehouse.gov/briefing-room/page/304/\n",
            "https://www.whitehouse.gov/briefing-room/page/305/\n",
            "https://www.whitehouse.gov/briefing-room/page/306/\n",
            "https://www.whitehouse.gov/briefing-room/page/307/\n",
            "https://www.whitehouse.gov/briefing-room/page/308/\n",
            "https://www.whitehouse.gov/briefing-room/page/309/\n",
            "https://www.whitehouse.gov/briefing-room/page/310/\n",
            "https://www.whitehouse.gov/briefing-room/page/311/\n",
            "https://www.whitehouse.gov/briefing-room/page/312/\n",
            "https://www.whitehouse.gov/briefing-room/page/313/\n",
            "https://www.whitehouse.gov/briefing-room/page/314/\n",
            "https://www.whitehouse.gov/briefing-room/page/315/\n",
            "https://www.whitehouse.gov/briefing-room/page/316/\n",
            "https://www.whitehouse.gov/briefing-room/page/317/\n",
            "https://www.whitehouse.gov/briefing-room/page/318/\n",
            "https://www.whitehouse.gov/briefing-room/page/319/\n",
            "https://www.whitehouse.gov/briefing-room/page/320/\n",
            "https://www.whitehouse.gov/briefing-room/page/321/\n",
            "https://www.whitehouse.gov/briefing-room/page/322/\n",
            "https://www.whitehouse.gov/briefing-room/page/323/\n",
            "https://www.whitehouse.gov/briefing-room/page/324/\n",
            "https://www.whitehouse.gov/briefing-room/page/325/\n",
            "https://www.whitehouse.gov/briefing-room/page/326/\n",
            "https://www.whitehouse.gov/briefing-room/page/327/\n",
            "https://www.whitehouse.gov/briefing-room/page/328/\n",
            "https://www.whitehouse.gov/briefing-room/page/329/\n",
            "https://www.whitehouse.gov/briefing-room/page/330/\n",
            "https://www.whitehouse.gov/briefing-room/page/331/\n",
            "https://www.whitehouse.gov/briefing-room/page/332/\n",
            "https://www.whitehouse.gov/briefing-room/page/333/\n",
            "https://www.whitehouse.gov/briefing-room/page/334/\n",
            "https://www.whitehouse.gov/briefing-room/page/335/\n",
            "https://www.whitehouse.gov/briefing-room/page/336/\n",
            "https://www.whitehouse.gov/briefing-room/page/337/\n",
            "https://www.whitehouse.gov/briefing-room/page/338/\n",
            "https://www.whitehouse.gov/briefing-room/page/339/\n",
            "https://www.whitehouse.gov/briefing-room/page/340/\n",
            "https://www.whitehouse.gov/briefing-room/page/341/\n",
            "https://www.whitehouse.gov/briefing-room/page/342/\n",
            "https://www.whitehouse.gov/briefing-room/page/343/\n",
            "https://www.whitehouse.gov/briefing-room/page/344/\n",
            "https://www.whitehouse.gov/briefing-room/page/345/\n",
            "https://www.whitehouse.gov/briefing-room/page/346/\n",
            "https://www.whitehouse.gov/briefing-room/page/347/\n",
            "https://www.whitehouse.gov/briefing-room/page/348/\n",
            "https://www.whitehouse.gov/briefing-room/page/349/\n",
            "https://www.whitehouse.gov/briefing-room/page/350/\n",
            "https://www.whitehouse.gov/briefing-room/page/351/\n",
            "https://www.whitehouse.gov/briefing-room/page/352/\n",
            "https://www.whitehouse.gov/briefing-room/page/353/\n",
            "https://www.whitehouse.gov/briefing-room/page/354/\n",
            "https://www.whitehouse.gov/briefing-room/page/355/\n",
            "https://www.whitehouse.gov/briefing-room/page/356/\n",
            "https://www.whitehouse.gov/briefing-room/page/357/\n",
            "https://www.whitehouse.gov/briefing-room/page/358/\n",
            "https://www.whitehouse.gov/briefing-room/page/359/\n",
            "https://www.whitehouse.gov/briefing-room/page/360/\n",
            "https://www.whitehouse.gov/briefing-room/page/361/\n",
            "https://www.whitehouse.gov/briefing-room/page/362/\n",
            "https://www.whitehouse.gov/briefing-room/page/363/\n",
            "https://www.whitehouse.gov/briefing-room/page/364/\n",
            "https://www.whitehouse.gov/briefing-room/page/365/\n",
            "https://www.whitehouse.gov/briefing-room/page/366/\n",
            "https://www.whitehouse.gov/briefing-room/page/367/\n",
            "https://www.whitehouse.gov/briefing-room/page/368/\n",
            "https://www.whitehouse.gov/briefing-room/page/369/\n",
            "https://www.whitehouse.gov/briefing-room/page/370/\n",
            "https://www.whitehouse.gov/briefing-room/page/371/\n",
            "https://www.whitehouse.gov/briefing-room/page/372/\n",
            "https://www.whitehouse.gov/briefing-room/page/373/\n",
            "https://www.whitehouse.gov/briefing-room/page/374/\n",
            "https://www.whitehouse.gov/briefing-room/page/375/\n",
            "https://www.whitehouse.gov/briefing-room/page/376/\n",
            "https://www.whitehouse.gov/briefing-room/page/377/\n",
            "https://www.whitehouse.gov/briefing-room/page/378/\n",
            "https://www.whitehouse.gov/briefing-room/page/379/\n",
            "https://www.whitehouse.gov/briefing-room/page/380/\n",
            "https://www.whitehouse.gov/briefing-room/page/381/\n",
            "https://www.whitehouse.gov/briefing-room/page/382/\n",
            "https://www.whitehouse.gov/briefing-room/page/383/\n",
            "https://www.whitehouse.gov/briefing-room/page/384/\n",
            "https://www.whitehouse.gov/briefing-room/page/385/\n",
            "https://www.whitehouse.gov/briefing-room/page/386/\n",
            "https://www.whitehouse.gov/briefing-room/page/387/\n",
            "https://www.whitehouse.gov/briefing-room/page/388/\n",
            "https://www.whitehouse.gov/briefing-room/page/389/\n",
            "https://www.whitehouse.gov/briefing-room/page/390/\n",
            "https://www.whitehouse.gov/briefing-room/page/391/\n",
            "https://www.whitehouse.gov/briefing-room/page/392/\n",
            "https://www.whitehouse.gov/briefing-room/page/393/\n",
            "https://www.whitehouse.gov/briefing-room/page/394/\n",
            "https://www.whitehouse.gov/briefing-room/page/395/\n",
            "https://www.whitehouse.gov/briefing-room/page/396/\n",
            "https://www.whitehouse.gov/briefing-room/page/397/\n",
            "https://www.whitehouse.gov/briefing-room/page/398/\n",
            "https://www.whitehouse.gov/briefing-room/page/399/\n",
            "https://www.whitehouse.gov/briefing-room/page/400/\n",
            "https://www.whitehouse.gov/briefing-room/page/401/\n",
            "https://www.whitehouse.gov/briefing-room/page/402/\n",
            "https://www.whitehouse.gov/briefing-room/page/403/\n",
            "https://www.whitehouse.gov/briefing-room/page/404/\n",
            "https://www.whitehouse.gov/briefing-room/page/405/\n",
            "https://www.whitehouse.gov/briefing-room/page/406/\n",
            "https://www.whitehouse.gov/briefing-room/page/407/\n",
            "https://www.whitehouse.gov/briefing-room/page/408/\n",
            "https://www.whitehouse.gov/briefing-room/page/409/\n",
            "https://www.whitehouse.gov/briefing-room/page/410/\n",
            "https://www.whitehouse.gov/briefing-room/page/411/\n",
            "https://www.whitehouse.gov/briefing-room/page/412/\n",
            "https://www.whitehouse.gov/briefing-room/page/413/\n",
            "https://www.whitehouse.gov/briefing-room/page/414/\n",
            "https://www.whitehouse.gov/briefing-room/page/415/\n",
            "https://www.whitehouse.gov/briefing-room/page/416/\n",
            "https://www.whitehouse.gov/briefing-room/page/417/\n",
            "https://www.whitehouse.gov/briefing-room/page/418/\n",
            "https://www.whitehouse.gov/briefing-room/page/419/\n",
            "https://www.whitehouse.gov/briefing-room/page/420/\n",
            "https://www.whitehouse.gov/briefing-room/page/421/\n",
            "https://www.whitehouse.gov/briefing-room/page/422/\n",
            "https://www.whitehouse.gov/briefing-room/page/423/\n",
            "https://www.whitehouse.gov/briefing-room/page/424/\n",
            "https://www.whitehouse.gov/briefing-room/page/425/\n",
            "https://www.whitehouse.gov/briefing-room/page/426/\n",
            "https://www.whitehouse.gov/briefing-room/page/427/\n",
            "https://www.whitehouse.gov/briefing-room/page/428/\n",
            "https://www.whitehouse.gov/briefing-room/page/429/\n",
            "https://www.whitehouse.gov/briefing-room/page/430/\n",
            "https://www.whitehouse.gov/briefing-room/page/431/\n",
            "https://www.whitehouse.gov/briefing-room/page/432/\n",
            "https://www.whitehouse.gov/briefing-room/page/433/\n",
            "https://www.whitehouse.gov/briefing-room/page/434/\n",
            "https://www.whitehouse.gov/briefing-room/page/435/\n",
            "https://www.whitehouse.gov/briefing-room/page/436/\n",
            "https://www.whitehouse.gov/briefing-room/page/437/\n",
            "https://www.whitehouse.gov/briefing-room/page/438/\n",
            "https://www.whitehouse.gov/briefing-room/page/439/\n",
            "https://www.whitehouse.gov/briefing-room/page/440/\n",
            "https://www.whitehouse.gov/briefing-room/page/441/\n",
            "https://www.whitehouse.gov/briefing-room/page/442/\n",
            "https://www.whitehouse.gov/briefing-room/page/443/\n",
            "https://www.whitehouse.gov/briefing-room/page/444/\n",
            "https://www.whitehouse.gov/briefing-room/page/445/\n",
            "https://www.whitehouse.gov/briefing-room/page/446/\n",
            "https://www.whitehouse.gov/briefing-room/page/447/\n",
            "https://www.whitehouse.gov/briefing-room/page/448/\n",
            "https://www.whitehouse.gov/briefing-room/page/449/\n",
            "https://www.whitehouse.gov/briefing-room/page/450/\n",
            "https://www.whitehouse.gov/briefing-room/page/451/\n",
            "https://www.whitehouse.gov/briefing-room/page/452/\n",
            "https://www.whitehouse.gov/briefing-room/page/453/\n",
            "https://www.whitehouse.gov/briefing-room/page/454/\n",
            "https://www.whitehouse.gov/briefing-room/page/455/\n",
            "https://www.whitehouse.gov/briefing-room/page/456/\n",
            "https://www.whitehouse.gov/briefing-room/page/457/\n",
            "https://www.whitehouse.gov/briefing-room/page/458/\n",
            "https://www.whitehouse.gov/briefing-room/page/459/\n",
            "https://www.whitehouse.gov/briefing-room/page/460/\n",
            "https://www.whitehouse.gov/briefing-room/page/461/\n",
            "https://www.whitehouse.gov/briefing-room/page/462/\n",
            "https://www.whitehouse.gov/briefing-room/page/463/\n",
            "https://www.whitehouse.gov/briefing-room/page/464/\n",
            "https://www.whitehouse.gov/briefing-room/page/465/\n",
            "https://www.whitehouse.gov/briefing-room/page/466/\n",
            "https://www.whitehouse.gov/briefing-room/page/467/\n",
            "https://www.whitehouse.gov/briefing-room/page/468/\n",
            "https://www.whitehouse.gov/briefing-room/page/469/\n",
            "https://www.whitehouse.gov/briefing-room/page/470/\n"
          ]
        }
      ]
    },
    {
      "cell_type": "code",
      "source": [
        "!zip -rq wh.zip wh"
      ],
      "metadata": {
        "id": "ycwN8ziRdlY2"
      },
      "execution_count": 44,
      "outputs": []
    },
    {
      "cell_type": "code",
      "source": [
        "wh = nltk.corpus.reader.TaggedCorpusReader('wh', r'.*\\.txt', sep='_')"
      ],
      "metadata": {
        "id": "c6iwP_FSeDoV"
      },
      "execution_count": 46,
      "outputs": []
    },
    {
      "cell_type": "code",
      "source": [
        "words = list(iter(wh.words()))"
      ],
      "metadata": {
        "id": "djDiUF_weF5s"
      },
      "execution_count": 47,
      "outputs": []
    },
    {
      "cell_type": "code",
      "source": [
        "len(words)"
      ],
      "metadata": {
        "colab": {
          "base_uri": "https://localhost:8080/"
        },
        "id": "M3yBBSczeHli",
        "outputId": "4079ea9a-8ce5-4c87-d82f-4b22b8e30951"
      },
      "execution_count": 48,
      "outputs": [
        {
          "output_type": "execute_result",
          "data": {
            "text/plain": [
              "8329760"
            ]
          },
          "metadata": {},
          "execution_count": 48
        }
      ]
    },
    {
      "cell_type": "code",
      "source": [
        "bigram_measures = nltk.collocations.BigramAssocMeasures()"
      ],
      "metadata": {
        "id": "PN2nv4NTeIKZ"
      },
      "execution_count": 49,
      "outputs": []
    },
    {
      "cell_type": "code",
      "source": [
        "finder = nltk.collocations.BigramCollocationFinder.from_words(w.lower() for w in words)"
      ],
      "metadata": {
        "id": "w6YNK_goeJ8i"
      },
      "execution_count": 50,
      "outputs": []
    },
    {
      "cell_type": "code",
      "source": [
        "finder.nbest(bigram_measures.pmi, 10)"
      ],
      "metadata": {
        "colab": {
          "base_uri": "https://localhost:8080/"
        },
        "id": "6qB8-homeMV1",
        "outputId": "31a6b9b0-d588-4b74-a40e-31463a73e879"
      },
      "execution_count": 52,
      "outputs": [
        {
          "output_type": "execute_result",
          "data": {
            "text/plain": [
              "[('-evidenced', 'tonight-'),\n",
              " ('0530', 'pt'),\n",
              " ('1,177', 'crewmen'),\n",
              " ('10,000latin', 'america/caribbean'),\n",
              " ('100-yard', 'wingspans'),\n",
              " ('105-degree', 'heat.and'),\n",
              " ('133,000', 'acres.in'),\n",
              " ('14,900', 'facilities.weekly'),\n",
              " ('15,000near', 'east/south'),\n",
              " ('18-wheeler', 'trucks.multiple')]"
            ]
          },
          "metadata": {},
          "execution_count": 52
        }
      ]
    },
    {
      "cell_type": "code",
      "source": [
        "def skip(w):\n",
        "  return not w.isalpha()\n",
        "finder.apply_word_filter(skip)\n",
        "finder.apply_freq_filter(10)"
      ],
      "metadata": {
        "id": "TiSN54dVgnVR"
      },
      "execution_count": 53,
      "outputs": []
    },
    {
      "cell_type": "code",
      "source": [
        "finder.nbest(bigram_measures.pmi, 10)"
      ],
      "metadata": {
        "colab": {
          "base_uri": "https://localhost:8080/"
        },
        "id": "-3vwwD80gr18",
        "outputId": "493f2a26-7581-40a2-859b-499240d345ec"
      },
      "execution_count": 54,
      "outputs": [
        {
          "output_type": "execute_result",
          "data": {
            "text/plain": [
              "[('suu', 'kyi'),\n",
              " ('ku', 'klux'),\n",
              " ('mira', 'loma'),\n",
              " ('tel', 'aviv'),\n",
              " ('bader', 'ginsburg'),\n",
              " ('notre', 'dame'),\n",
              " ('des', 'moines'),\n",
              " ('ahmaud', 'arbery'),\n",
              " ('cortez', 'masto'),\n",
              " ('edmund', 'pettus')]"
            ]
          },
          "metadata": {},
          "execution_count": 54
        }
      ]
    },
    {
      "cell_type": "code",
      "source": [
        "wh.fileids()[:5]"
      ],
      "metadata": {
        "colab": {
          "base_uri": "https://localhost:8080/"
        },
        "id": "ppEuGISVgvVq",
        "outputId": "e841cfc7-5a97-4d26-a0ec-e6b5e702bb43"
      },
      "execution_count": 55,
      "outputs": [
        {
          "output_type": "execute_result",
          "data": {
            "text/plain": [
              "['_briefing-room_blog_2021_03_10_the-american-rescue-plan-passed-now-what_.txt',\n",
              " '_briefing-room_blog_2021_03_12_the-white-house-gender-policy-council-a-message-from-the-co-chairs_.txt',\n",
              " '_briefing-room_blog_2021_03_23_covid-19-has-exacerbated-the-economic-inequality-and-caregiving-crisis-facing-women-of-color-heres-how-the-american-rescue-plan-helps_.txt',\n",
              " '_briefing-room_blog_2021_03_29_approaching-policy-with-equity-in-mind_.txt',\n",
              " '_briefing-room_blog_2021_04_02_strengthening-our-nations-commitment-to-preventing-and-responding-to-gender-based-violence_.txt']"
            ]
          },
          "metadata": {},
          "execution_count": 55
        }
      ]
    },
    {
      "cell_type": "code",
      "source": [
        "import re\n",
        "\n",
        "def month(f):\n",
        "  return re.findall(r'202[0-9]_[012][0-9]', f)[0]"
      ],
      "metadata": {
        "id": "Rdta9bLVgxxP"
      },
      "execution_count": 63,
      "outputs": []
    },
    {
      "cell_type": "code",
      "source": [
        "[month(f) for f in wh.fileids()[:5]]"
      ],
      "metadata": {
        "colab": {
          "base_uri": "https://localhost:8080/"
        },
        "id": "7BKGgbmIgzan",
        "outputId": "ab5e39b7-5a71-4d3e-a0b2-4c2abf7d3758"
      },
      "execution_count": 62,
      "outputs": [
        {
          "output_type": "execute_result",
          "data": {
            "text/plain": [
              "['2021_03', '2021_03', '2021_03', '2021_03', '2021_04']"
            ]
          },
          "metadata": {},
          "execution_count": 62
        }
      ]
    },
    {
      "cell_type": "code",
      "source": [
        "counts = nltk.ConditionalFreqDist([(month(f), w.lower()) \n",
        "                for f in wh.fileids()\n",
        "                for w in wh.words(f)])"
      ],
      "metadata": {
        "id": "K5Je8XsbiHPz"
      },
      "execution_count": 64,
      "outputs": []
    },
    {
      "cell_type": "code",
      "source": [
        "[(c,counts[c]['coronavirus']/counts[c].N()) for c in sorted(counts)]"
      ],
      "metadata": {
        "colab": {
          "base_uri": "https://localhost:8080/"
        },
        "id": "9gqKYzvEiJ9V",
        "outputId": "11c2cc02-a2c3-45f3-a6b8-53ce896006e6"
      },
      "execution_count": 65,
      "outputs": [
        {
          "output_type": "execute_result",
          "data": {
            "text/plain": [
              "[('2021_01', 0.00019617303522101277),\n",
              " ('2021_02', 9.873967664021794e-05),\n",
              " ('2021_03', 5.2594567955103715e-05),\n",
              " ('2021_04', 2.932723326881342e-05),\n",
              " ('2021_05', 4.621128284953363e-05),\n",
              " ('2021_06', 1.8450865345584707e-05),\n",
              " ('2021_07', 2.5590719099206688e-05),\n",
              " ('2021_08', 3.304560056838433e-05),\n",
              " ('2021_09', 3.0457409373978408e-05),\n",
              " ('2021_10', 2.002378826045342e-05),\n",
              " ('2021_11', 2.527050931562866e-05),\n",
              " ('2021_12', 2.878330897031824e-05),\n",
              " ('2022_01', 3.757769187795768e-05),\n",
              " ('2022_02', 7.214243802964573e-06),\n",
              " ('2022_03', 2.33564172590577e-05),\n",
              " ('2022_04', 2.1117292481539965e-05),\n",
              " ('2022_05', 1.163446827571363e-05),\n",
              " ('2022_06', 4.344567661210614e-06),\n",
              " ('2022_07', 0.0)]"
            ]
          },
          "metadata": {},
          "execution_count": 65
        }
      ]
    },
    {
      "cell_type": "markdown",
      "source": [
        "**Finding the hidden trends of few examples:**"
      ],
      "metadata": {
        "id": "a7qnrg_dqMDw"
      }
    },
    {
      "cell_type": "code",
      "source": [
        "import matplotlib.pyplot as plt"
      ],
      "metadata": {
        "id": "bDNAOivniMFy"
      },
      "execution_count": 128,
      "outputs": []
    },
    {
      "cell_type": "code",
      "source": [
        "plt.figure(figsize=(15,6))\n",
        "plt.plot([counts[c]['coronavirus']/counts[c].N() for c in sorted(counts)])\n",
        "plt.xticks(range(len(counts)), sorted(counts), rotation=90)\n",
        "\n",
        "plt.grid(True, color='silver')\n",
        "\n",
        "plt.xlabel(\"Year_Month\", fontsize = 15)\n",
        "plt.xticks(rotation = 90)\n",
        "plt.tick_params(axis='x', which='major', labelsize = 12)\n",
        "\n",
        "plt.ylabel(\"Occurence Count\", fontsize = 15)\n",
        "plt.tick_params(axis='y', which='major', labelsize = 12)\n",
        "\n",
        "plt.title(\"Trend of Occurences for 'coronavirus' word\", fontsize = 20)\n",
        "plt.show()"
      ],
      "metadata": {
        "colab": {
          "base_uri": "https://localhost:8080/",
          "height": 457
        },
        "id": "qHy_5cuaiaSU",
        "outputId": "b240df9b-ab0e-4794-b379-8793af8901e8"
      },
      "execution_count": 129,
      "outputs": [
        {
          "output_type": "display_data",
          "data": {
            "text/plain": [
              "<Figure size 1080x432 with 1 Axes>"
            ],
            "image/png": "[encoded data removed]"
          },
          "metadata": {
            "needs_background": "light"
          }
        }
      ]
    },
    {
      "cell_type": "code",
      "source": [
        "plt.figure(figsize=(15,6))\n",
        "plt.plot([counts[c]['delta']/counts[c].N() for c in sorted(counts)], label = \"delta\")\n",
        "plt.plot([counts[c]['omicron']/counts[c].N() for c in sorted(counts)], label = \"omicron\")\n",
        "plt.xticks(range(len(counts)), sorted(counts), rotation=90)\n",
        "\n",
        "plt.grid(True, color='silver')\n",
        "plt.legend(loc='upper left')\n",
        "\n",
        "plt.xlabel(\"Year_Month\", fontsize = 15)\n",
        "plt.xticks(rotation = 90)\n",
        "plt.tick_params(axis='x', which='major', labelsize = 12)\n",
        "\n",
        "plt.ylabel(\"Occurence Count\", fontsize = 15)\n",
        "plt.tick_params(axis='y', which='major', labelsize = 12)\n",
        "\n",
        "plt.title(\"Trend of Occurences for 'delta' vs. 'omicron' word\", fontsize = 20)\n",
        "plt.show()"
      ],
      "metadata": {
        "colab": {
          "base_uri": "https://localhost:8080/",
          "height": 457
        },
        "id": "0OmFovxtiy_W",
        "outputId": "f3771d0a-a48f-425e-9913-dff37965da95"
      },
      "execution_count": 130,
      "outputs": [
        {
          "output_type": "display_data",
          "data": {
            "text/plain": [
              "<Figure size 1080x432 with 1 Axes>"
            ],
            "image/png": "[encoded data removed]"
          },
          "metadata": {
            "needs_background": "light"
          }
        }
      ]
    },
    {
      "cell_type": "code",
      "source": [
        "plt.figure(figsize=(15,6))\n",
        "plt.plot([counts[c]['inflation']/counts[c].N() for c in sorted(counts)], label = \"inflation\")\n",
        "plt.plot([counts[c]['recession']/counts[c].N() for c in sorted(counts)], label = \"recession\")\n",
        "plt.plot([counts[c]['demand']/counts[c].N() for c in sorted(counts)], label = \"demand\")\n",
        "plt.xticks(range(len(counts)), sorted(counts), rotation=90)\n",
        "\n",
        "plt.grid(True, color='silver')\n",
        "plt.legend(loc='upper left')\n",
        "\n",
        "plt.xlabel(\"Year_Month\", fontsize = 15)\n",
        "plt.xticks(rotation = 90)\n",
        "plt.tick_params(axis='x', which='major', labelsize = 12)\n",
        "\n",
        "plt.ylabel(\"Occurence Count\", fontsize = 15)\n",
        "plt.tick_params(axis='y', which='major', labelsize = 12)\n",
        "\n",
        "plt.title(\"Trend of Occurences for 'inflation' vs. 'recession' vs. 'demand'\", fontsize = 20)\n",
        "plt.show()"
      ],
      "metadata": {
        "colab": {
          "base_uri": "https://localhost:8080/",
          "height": 457
        },
        "id": "lakJesQfjLjS",
        "outputId": "02633b5e-a4b4-4c45-afa7-3093f062e1e8"
      },
      "execution_count": 132,
      "outputs": [
        {
          "output_type": "display_data",
          "data": {
            "text/plain": [
              "<Figure size 1080x432 with 1 Axes>"
            ],
            "image/png": "[encoded data removed]"
          },
          "metadata": {
            "needs_background": "light"
          }
        }
      ]
    }
  ]
}